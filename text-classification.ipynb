{
 "cells": [
  {
   "cell_type": "code",
   "execution_count": 1,
   "metadata": {
    "collapsed": true
   },
   "outputs": [],
   "source": [
    "import json, re, os, nltk, itertools, urllib\n",
    "from collections import Counter, defaultdict\n",
    "import numpy as np\n",
    "import sklearn\n",
    "import timeit"
   ]
  },
  {
   "cell_type": "code",
   "execution_count": 2,
   "metadata": {
    "collapsed": true
   },
   "outputs": [],
   "source": [
    "import matplotlib.pyplot as plt\n",
    "%matplotlib inline\n",
    "from IPython.core.pylabtools import figsize\n",
    "figsize(9, 6)"
   ]
  },
  {
   "cell_type": "code",
   "execution_count": 3,
   "metadata": {
    "collapsed": false
   },
   "outputs": [],
   "source": [
    "def load_yelp_reviews(paths):\n",
    "    raw_reviews = []; authors = []; dates = []; ratings = []\n",
    "    json_files = [path_to_json + '/' + pos_json for path_to_json in paths for pos_json in os.listdir(path_to_json) if pos_json.endswith('.json')]\n",
    "    pattern = re.compile(\"\\xa0\")\n",
    "    for js in json_files:\n",
    "        with open(os.path.join(js)) as json_file:\n",
    "            json_text = json.load(json_file)\n",
    "            for review in json_text['Reviews']:\n",
    "                #authors.append(review['Author'])\n",
    "                #dates.append(review['Date'])\n",
    "                content = pattern.sub('', review['Content'])\n",
    "                raw_reviews.append(content)\n",
    "                ratings.append(float(review['Overall']))\n",
    "    #return raw_reviews, authors, dates\n",
    "    return raw_reviews, ratings"
   ]
  },
  {
   "cell_type": "code",
   "execution_count": 4,
   "metadata": {
    "collapsed": false
   },
   "outputs": [],
   "source": [
    "train, ratings = load_yelp_reviews(['../data/yelp/train', '../data/yelp/test'])"
   ]
  },
  {
   "cell_type": "markdown",
   "metadata": {},
   "source": [
    "# Text processing"
   ]
  },
  {
   "cell_type": "markdown",
   "metadata": {},
   "source": [
    "Load tokenizer and stemmer"
   ]
  },
  {
   "cell_type": "code",
   "execution_count": 5,
   "metadata": {
    "collapsed": true
   },
   "outputs": [],
   "source": [
    "tokenizer = nltk.tokenize.TweetTokenizer(preserve_case=False, reduce_len=True)\n",
    "from nltk.stem.snowball import EnglishStemmer\n",
    "stemmer = EnglishStemmer()"
   ]
  },
  {
   "cell_type": "markdown",
   "metadata": {},
   "source": [
    "Load the stopwords and stem them"
   ]
  },
  {
   "cell_type": "code",
   "execution_count": 6,
   "metadata": {
    "collapsed": true
   },
   "outputs": [],
   "source": [
    "words = urllib.request.urlopen('http://jmlr.org/papers/volume5/lewis04a/a11-smart-stop-list/english.stop')\n",
    "pattern = re.compile(r'\\n')\n",
    "stopwords = [pattern.sub('', word.decode(\"utf-8\")) for word in words]\n",
    "stemmed_stopwords = [stemmer.stem(word) for word in stopwords]"
   ]
  },
  {
   "cell_type": "code",
   "execution_count": 7,
   "metadata": {
    "collapsed": false
   },
   "outputs": [],
   "source": [
    "# Tokenize\n",
    "tokenized_reviews = [tokenizer.tokenize(review) for review in train]"
   ]
  },
  {
   "cell_type": "code",
   "execution_count": 8,
   "metadata": {
    "collapsed": true
   },
   "outputs": [],
   "source": [
    "# Keep only alphabetic words, thus stripping numbers and punctuactions\n",
    "tokenized_reviews = [[token for split in review for token in re.findall(\"[a-z']+\", split)] for review in tokenized_reviews]"
   ]
  },
  {
   "cell_type": "code",
   "execution_count": 9,
   "metadata": {
    "collapsed": true
   },
   "outputs": [],
   "source": [
    "# Stemming\n",
    "tokenized_reviews = [[stemmer.stem(token) for token in review] for review in tokenized_reviews]"
   ]
  },
  {
   "cell_type": "code",
   "execution_count": 10,
   "metadata": {
    "collapsed": true
   },
   "outputs": [],
   "source": [
    "# Remove stopwords\n",
    "tokenized_reviews = [[token for token in review if token not in stemmed_stopwords] for review in tokenized_reviews]"
   ]
  },
  {
   "cell_type": "code",
   "execution_count": 11,
   "metadata": {
    "collapsed": true
   },
   "outputs": [],
   "source": [
    "# Reprocess the ratings to obtain a binary response\n",
    "labels = [1 if rating >= 4.0 else 0 for rating in ratings]"
   ]
  },
  {
   "cell_type": "markdown",
   "metadata": {},
   "source": [
    "## Document frequency"
   ]
  },
  {
   "cell_type": "code",
   "execution_count": 12,
   "metadata": {
    "collapsed": false
   },
   "outputs": [
    {
     "name": "stdout",
     "output_type": "stream",
     "text": [
      "37903 words in the vocabulary\n"
     ]
    }
   ],
   "source": [
    "df = Counter()\n",
    "for review in tokenized_reviews:\n",
    "    df.update(set(review))\n",
    "print(\"{0} words in the vocabulary\".format(len(df)))"
   ]
  },
  {
   "cell_type": "markdown",
   "metadata": {},
   "source": [
    "We filter out words with a DF smaller than 5."
   ]
  },
  {
   "cell_type": "code",
   "execution_count": 13,
   "metadata": {
    "collapsed": false
   },
   "outputs": [
    {
     "name": "stdout",
     "output_type": "stream",
     "text": [
      "10574 words in the controlled vocabulary\n"
     ]
    }
   ],
   "source": [
    "index_to_vocabulary = [w for w, freq in df.most_common() if freq > 5]\n",
    "vocabulary_to_index = dict((w, i) for i, w in enumerate(index_to_vocabulary))\n",
    "\n",
    "print('{0} words in the controlled vocabulary'.format(len(index_to_vocabulary)))"
   ]
  },
  {
   "cell_type": "code",
   "execution_count": 14,
   "metadata": {
    "collapsed": true
   },
   "outputs": [],
   "source": [
    "filtered_reviews = [[w for w in review if w in index_to_vocabulary] for review in tokenized_reviews]"
   ]
  },
  {
   "cell_type": "markdown",
   "metadata": {},
   "source": [
    "## Information gain"
   ]
  },
  {
   "cell_type": "markdown",
   "metadata": {},
   "source": [
    "Calculate base class entropy"
   ]
  },
  {
   "cell_type": "code",
   "execution_count": 15,
   "metadata": {
    "collapsed": false
   },
   "outputs": [],
   "source": [
    "train_size = len(train)\n",
    "prior = Counter(labels)\n",
    "for label in prior.keys(): prior[label] = prior[label] / train_size\n",
    "class_entropy = -sum([prior[v] * np.log2([prior[v]]) for v in prior.keys()])[0]"
   ]
  },
  {
   "cell_type": "code",
   "execution_count": 16,
   "metadata": {
    "collapsed": false
   },
   "outputs": [
    {
     "name": "stdout",
     "output_type": "stream",
     "text": [
      "Base class entropy: 0.762563\n"
     ]
    }
   ],
   "source": [
    "print('Base class entropy: {0:f}'.format(class_entropy))"
   ]
  },
  {
   "cell_type": "code",
   "execution_count": 17,
   "metadata": {
    "collapsed": true
   },
   "outputs": [],
   "source": [
    "with open('ig_scores.txt', 'r') as f:\n",
    "    ig_scores = [line.split(',') for line in f.readlines()]\n",
    "ig_scores = [(a[2:-1], float(b[1:-2])) for a, b in ig_scores]"
   ]
  },
  {
   "cell_type": "code",
   "execution_count": 18,
   "metadata": {
    "collapsed": false
   },
   "outputs": [],
   "source": [
    "with open('chi2.txt', 'r') as f:\n",
    "    chi2 = [line.split(',') for line in f.readlines()]\n",
    "chi2 = [(a[2:-1], float(b[1:-2])) for a, b in chi2]"
   ]
  },
  {
   "cell_type": "code",
   "execution_count": 282,
   "metadata": {
    "collapsed": false
   },
   "outputs": [],
   "source": [
    "def ig(feature_set, docs, labels):\n",
    "    # Calculate the entropy of a Counter object, a dictionary of (class, count) pairs,\n",
    "    # with s equal to the total count. \n",
    "    def entropy(count_dict, s):\n",
    "        ts = [count_dict[label]/s * np.log2(count_dict[label]/s) for label in count_dict.keys()]\n",
    "        return sum(ts)\n",
    "    \n",
    "    # Calculate the gain from a given word\n",
    "    def gain(w):\n",
    "        # Calculate the entropy of the set of reviews when w is in the review\n",
    "        # This entropy is multiplied by the probability of w\n",
    "        w_in_set = Counter([label for label, doc in zip(labels, docs) if  in doc])\n",
    "        s_in_set = sum(w_in_set.values())\n",
    "        entropy_in_set = entropy(w_in_set, s_in_set) * s_in_set / N\n",
    "        # Calculate the entropy of the set of reviews when w is not in the review        \n",
    "        w_not_in_set = Counter([label for label, doc in zip(labels, docs) if w not in doc])\n",
    "        s_not_in_set = sum(w_not_in_set.values())\n",
    "        entropy_not_in_set = entropy(w_not_in_set, s_not_in_set) * s_not_in_set / N\n",
    "        # The sum of class entropy and the two entropies makes the gain\n",
    "        return class_entropy + entropy_in_set + entropy_not_in_set\n",
    "    \n",
    "    # Calculate the entropy of the corpus\n",
    "    class_entropy = -entropy(Counter(labels), float(len(docs)))\n",
    "    ig_scores = []\n",
    "    for feature in feature_set:\n",
    "        ig_scores.append((feature, gain(feature)))\n",
    "    return ig_scores"
   ]
  },
  {
   "cell_type": "code",
   "execution_count": 302,
   "metadata": {
    "collapsed": false
   },
   "outputs": [],
   "source": [
    "ig_scores = ig(index_to_vocabulary, filtered_reviews, labels)"
   ]
  },
  {
   "cell_type": "code",
   "execution_count": 530,
   "metadata": {
    "collapsed": false
   },
   "outputs": [],
   "source": [
    "chi2 = []\n",
    "for w in index_to_vocabulary:\n",
    "    \n",
    "    # Counts of labels in the set of reviews for when word is in the review\n",
    "    w_in_set = Counter([label for label, doc in zip(labels, filtered_reviews) if w in doc])\n",
    "    # Counts of labels in the set of reviews for when word is not in the review\n",
    "    w_not_in_set = Counter([label for label, doc in zip(labels, filtered_reviews) if w not in doc])\n",
    "    \n",
    "    # A is the number of positive documents containing term\n",
    "    A = w_in_set[1]\n",
    "    # B is the number of positive documents not containing term \n",
    "    B = w_not_in_set[1]\n",
    "    # C is the number of negative documents containing term\n",
    "    C = w_in_set[0]\n",
    "    # D is the number of negative documents not containing term.\n",
    "    D = w_not_in_set[0]\n",
    "\n",
    "    score = (A + B + C + D) * (A*D - B*C)**2 / ((A+C)*(B+D)*(A+B)*(C+D))\n",
    "    chi2.append((w, score))"
   ]
  },
  {
   "cell_type": "markdown",
   "metadata": {},
   "source": [
    "Filter out the chi2 square below the threshold of 3.841"
   ]
  },
  {
   "cell_type": "code",
   "execution_count": 19,
   "metadata": {
    "collapsed": true
   },
   "outputs": [],
   "source": [
    "filtered_chi2 = [(w, score) for w, score in chi2 if score >= 3.841]"
   ]
  },
  {
   "cell_type": "code",
   "execution_count": 20,
   "metadata": {
    "collapsed": false
   },
   "outputs": [
    {
     "data": {
      "text/plain": [
       "2966"
      ]
     },
     "execution_count": 20,
     "metadata": {},
     "output_type": "execute_result"
    }
   ],
   "source": [
    "len(filtered_chi2)"
   ]
  },
  {
   "cell_type": "markdown",
   "metadata": {},
   "source": [
    "2966 words kept in the chi2 scores"
   ]
  },
  {
   "cell_type": "markdown",
   "metadata": {},
   "source": [
    "Top 20 words selected by information gain"
   ]
  },
  {
   "cell_type": "code",
   "execution_count": 21,
   "metadata": {
    "collapsed": false,
    "scrolled": true
   },
   "outputs": [
    {
     "data": {
      "text/plain": [
       "['bland',\n",
       " 'delici',\n",
       " 'mediocr',\n",
       " 'perfect',\n",
       " 'decent',\n",
       " 'rude',\n",
       " 'bad',\n",
       " 'amaz',\n",
       " 'disappoint',\n",
       " 'terribl',\n",
       " 'averag',\n",
       " 'favorit',\n",
       " 'worst',\n",
       " 'hype',\n",
       " 'overpr',\n",
       " 'meh',\n",
       " 'love',\n",
       " 'horribl',\n",
       " 'overr',\n",
       " 'lack']"
      ]
     },
     "execution_count": 21,
     "metadata": {},
     "output_type": "execute_result"
    }
   ],
   "source": [
    "[w for w, gain in sorted(ig_scores, key=lambda x: -x[1])[0:20]]"
   ]
  },
  {
   "cell_type": "markdown",
   "metadata": {},
   "source": [
    "Top 20 words selected by chi2"
   ]
  },
  {
   "cell_type": "code",
   "execution_count": 22,
   "metadata": {
    "collapsed": false
   },
   "outputs": [
    {
     "data": {
      "text/plain": [
       "['bland',\n",
       " 'mediocr',\n",
       " 'rude',\n",
       " 'decent',\n",
       " 'bad',\n",
       " 'delici',\n",
       " 'terribl',\n",
       " 'worst',\n",
       " 'averag',\n",
       " 'overpr',\n",
       " 'meh',\n",
       " 'disappoint',\n",
       " 'hype',\n",
       " 'perfect',\n",
       " 'amaz',\n",
       " 'horribl',\n",
       " 'overr',\n",
       " 'lack',\n",
       " 'poor',\n",
       " 'favorit']"
      ]
     },
     "execution_count": 22,
     "metadata": {},
     "output_type": "execute_result"
    }
   ],
   "source": [
    "[w for w, score in sorted(chi2, key=lambda x: -x[1])[0:20]]"
   ]
  },
  {
   "cell_type": "markdown",
   "metadata": {},
   "source": [
    "Create the control vocabulary"
   ]
  },
  {
   "cell_type": "code",
   "execution_count": 23,
   "metadata": {
    "collapsed": false
   },
   "outputs": [
    {
     "name": "stdout",
     "output_type": "stream",
     "text": [
      "5000 words in the controlled vocabulary\n"
     ]
    }
   ],
   "source": [
    "index_to_vocabulary = list(set([w for w, score in sorted(ig_scores, key=lambda x: -x[1])[0:5000]] + \n",
    "                              [w for w, score in sorted(filtered_chi2, key=lambda x: -x[1])]))\n",
    "\n",
    "print(\"{0} words in the controlled vocabulary\".format(len(index_to_vocabulary)))\n",
    "\n",
    "vocabulary_to_index = dict((w, i) for i, w in enumerate(index_to_vocabulary))"
   ]
  },
  {
   "cell_type": "code",
   "execution_count": 24,
   "metadata": {
    "collapsed": false
   },
   "outputs": [],
   "source": [
    "final_reviews = [[w for w in review if w in index_to_vocabulary] for review in filtered_reviews]"
   ]
  },
  {
   "cell_type": "code",
   "execution_count": 25,
   "metadata": {
    "collapsed": false
   },
   "outputs": [
    {
     "name": "stdout",
     "output_type": "stream",
     "text": [
      "58406 reviews in the final corpus after feature selection\n"
     ]
    }
   ],
   "source": [
    "corpus = [(label, review) for label, review in zip(labels, final_reviews) if len(review) > 0]\n",
    "\n",
    "print('{0} reviews in the final corpus after feature selection'.format(len(corpus)))"
   ]
  },
  {
   "cell_type": "code",
   "execution_count": 26,
   "metadata": {
    "collapsed": true
   },
   "outputs": [],
   "source": [
    "final_reviews = [review for label, review in corpus]\n",
    "final_labels = [label for label, review in corpus]"
   ]
  },
  {
   "cell_type": "markdown",
   "metadata": {},
   "source": [
    "## Naive Bayes"
   ]
  },
  {
   "cell_type": "code",
   "execution_count": 25,
   "metadata": {
    "collapsed": true
   },
   "outputs": [],
   "source": [
    "class Unigram(dict):\n",
    "    def __init__(self, text, delta):\n",
    "        self.counts = Counter(text)\n",
    "        self.N = float(len(text))\n",
    "        self.V = float(len(self.counts))\n",
    "        self.delta = delta\n",
    "        for key, count in self.counts.most_common():\n",
    "            self[key] = count\n",
    "    \n",
    "    def __call__(self, w):\n",
    "        if w in self:\n",
    "            return (self[w] + self.delta) / (self.N + self.V)\n",
    "        else:\n",
    "            return self.delta / (self.N + self.V)"
   ]
  },
  {
   "cell_type": "code",
   "execution_count": 26,
   "metadata": {
    "collapsed": true
   },
   "outputs": [],
   "source": [
    "class NaiveBayes():\n",
    "    def __init__(self, corpus, delta):\n",
    "        self.positive_unigram = Unigram([token for label, review in corpus for token in review if label == 1], delta)\n",
    "        self.negative_unigram = Unigram([token for label, review in corpus for token in review if label == 0], delta)\n",
    "        self.delta = delta\n",
    "        self.prior = Counter([label for label, review in corpus])\n",
    "    \n",
    "    def log_ratio(self, w):\n",
    "        return np.log( self.positive_unigram(w) / self.negative_unigram(w))\n",
    "    \n",
    "    def score(self, doc):\n",
    "        evidence = np.log(self.prior[1] / self.prior[0])\n",
    "        for w in set(doc):\n",
    "            evidence += np.log(self.positive_unigram(w)) - np.log(self.negative_unigram(w))\n",
    "        return evidence\n",
    "        \n",
    "    def sign(self, doc, threshold=0):\n",
    "        if self.score(doc) >= threshold:\n",
    "            return 1\n",
    "        else:\n",
    "            return 0\n",
    "        \n",
    "    def plot_precision_recall_curve(self, docs, truth):\n",
    "        preds = [self.score(doc) for doc in docs]\n",
    "        thresholds = np.arange(min(preds), max(preds), 1)\n",
    "        metrics = [self.precision_recall(preds, truth, threshold) for threshold in thresholds]\n",
    "        plt.plot([x[1] for x in metrics], [x[0] for x in metrics], lw=2)\n",
    "        plt.xlim(0, 1)\n",
    "        plt.ylim(0, 1)\n",
    "        plt.title('Precision-Recall Curve, Delta = ' + str(self.delta), fontsize=20)\n",
    "        plt.ylabel('Precision', fontsize=16)\n",
    "        plt.xlabel('Recall', fontsize=16)\n",
    "        plt.grid(True)\n",
    "        plt.show()\n",
    "        \n",
    "    def precision_recall(self, probs, truth, threshold):\n",
    "        confMat = Counter([(1, true) if prob >= threshold else (0, true) for prob, true in zip(probs, truth)])\n",
    "        precision = confMat[(1, 1)] / (confMat[(1, 1)] + confMat[(1, 0)])\n",
    "        recall = confMat[(1, 1)] / (confMat[(1, 1)] + confMat[(0, 1)])\n",
    "        return (precision, recall)"
   ]
  },
  {
   "cell_type": "code",
   "execution_count": 27,
   "metadata": {
    "collapsed": true
   },
   "outputs": [],
   "source": [
    "bayes = NaiveBayes(corpus, 0.1)"
   ]
  },
  {
   "cell_type": "markdown",
   "metadata": {},
   "source": [
    "Top 20 log ratio"
   ]
  },
  {
   "cell_type": "code",
   "execution_count": 28,
   "metadata": {
    "collapsed": true
   },
   "outputs": [],
   "source": [
    "ratios = sorted([(w, bayes.log_ratio(w)) for w in index_to_vocabulary], key = lambda x: -x[1])"
   ]
  },
  {
   "cell_type": "code",
   "execution_count": 29,
   "metadata": {
    "collapsed": false
   },
   "outputs": [
    {
     "data": {
      "text/plain": [
       "[('gluttoni', 4.9295249142894839),\n",
       " ('ryan', 4.9042710469682804),\n",
       " ('fantasi', 4.824441445315796),\n",
       " ('seamless', 4.6426737517317909),\n",
       " ('hoagi', 4.6426737517317909),\n",
       " ('yummo', 4.5376823078626156),\n",
       " ('boutiqu', 4.5376823078626156),\n",
       " ('scott', 4.461016426114699),\n",
       " ('lambrusco', 4.3779811975047087),\n",
       " ('devin', 4.3779811975047087),\n",
       " ('meticul', 4.3779811975047087),\n",
       " ('aldo', 4.3337261885006679),\n",
       " ('barbq', 4.3337261885006679),\n",
       " ('maxim', 4.3337261885006679),\n",
       " ('amazinggg', 4.2874216204589812),\n",
       " ('ganach', 4.2388683950419903),\n",
       " ('lobstah', 4.2388683950419903),\n",
       " ('tapioca', 4.2388683950419903),\n",
       " ('unparallel', 4.1878369150295445),\n",
       " ('iti', 4.1878369150295445)]"
      ]
     },
     "execution_count": 29,
     "metadata": {},
     "output_type": "execute_result"
    }
   ],
   "source": [
    "[(w, ratio) for w, ratio in ratios[0:20]]"
   ]
  },
  {
   "cell_type": "markdown",
   "metadata": {},
   "source": [
    "Get the bottom 20"
   ]
  },
  {
   "cell_type": "code",
   "execution_count": 32,
   "metadata": {
    "collapsed": false
   },
   "outputs": [
    {
     "data": {
      "text/plain": [
       "[('deplor', -3.1774007467355645),\n",
       " ('wade', -3.281661757059974),\n",
       " ('emperor', -3.3760714415310487),\n",
       " ('rudest', -3.5417385634198659),\n",
       " ('injuri', -3.5417385634198659),\n",
       " ('diarrhea', -3.6153011305968827),\n",
       " ('nastiest', -5.1753103771903968),\n",
       " ('flavourless', -5.1753103771903968),\n",
       " ('huf', -5.1753103771903968),\n",
       " ('dupe', -5.1753103771903968),\n",
       " ('volar', -5.1753103771903968),\n",
       " ('budg', -5.3271163900584009),\n",
       " ('insipid', -5.3271163900584009),\n",
       " ('diappoint', -5.3271163900584009),\n",
       " ('angrili', -5.3271163900584009),\n",
       " ('apathi', -5.4588856676895237),\n",
       " ('boyarde', -5.4588856676895237),\n",
       " ('reprimand', -5.4588856676895237),\n",
       " ('lipstick', -5.5752960195339352),\n",
       " ('sewer', -5.5752960195339352)]"
      ]
     },
     "execution_count": 32,
     "metadata": {},
     "output_type": "execute_result"
    }
   ],
   "source": [
    "[(w, ratio) for w, ratio in ratios[-20:]]"
   ]
  },
  {
   "cell_type": "code",
   "execution_count": 33,
   "metadata": {
    "collapsed": false
   },
   "outputs": [
    {
     "data": {
      "image/png": "[encoded data removed]",
      "text/plain": [
       "<matplotlib.figure.Figure at 0x1c45e9f47b8>"
      ]
     },
     "metadata": {},
     "output_type": "display_data"
    }
   ],
   "source": [
    "bayes.plot_precision_recall_curve(final_reviews, final_labels)"
   ]
  },
  {
   "cell_type": "code",
   "execution_count": 384,
   "metadata": {
    "collapsed": false
   },
   "outputs": [
    {
     "data": {
      "image/png": "[encoded data removed]",
      "text/plain": [
       "<matplotlib.figure.Figure at 0x1374e98a588>"
      ]
     },
     "metadata": {},
     "output_type": "display_data"
    }
   ],
   "source": [
    "bayes2 = NaiveBayes(corpus, delta=10)\n",
    "bayes2.plot_precision_recall_curve(final_reviews, final_labels)"
   ]
  },
  {
   "cell_type": "code",
   "execution_count": 385,
   "metadata": {
    "collapsed": false
   },
   "outputs": [
    {
     "data": {
      "image/png": "[encoded data removed]",
      "text/plain": [
       "<matplotlib.figure.Figure at 0x1374ea02860>"
      ]
     },
     "metadata": {},
     "output_type": "display_data"
    }
   ],
   "source": [
    "bayes2 = NaiveBayes(corpus, delta=100)\n",
    "bayes2.plot_precision_recall_curve(final_reviews, final_labels)"
   ]
  },
  {
   "cell_type": "code",
   "execution_count": 386,
   "metadata": {
    "collapsed": false
   },
   "outputs": [
    {
     "data": {
      "image/png": "[encoded data removed]",
      "text/plain": [
       "<matplotlib.figure.Figure at 0x1374e99f4e0>"
      ]
     },
     "metadata": {},
     "output_type": "display_data"
    }
   ],
   "source": [
    "bayes2 = NaiveBayes(corpus, delta=0.001)\n",
    "bayes2.plot_precision_recall_curve(final_reviews, final_labels)"
   ]
  },
  {
   "cell_type": "markdown",
   "metadata": {},
   "source": [
    "# kNN Classifier"
   ]
  },
  {
   "cell_type": "code",
   "execution_count": 27,
   "metadata": {
    "collapsed": false
   },
   "outputs": [],
   "source": [
    "df = Counter()\n",
    "for label, review in corpus:\n",
    "    df.update(set(review))"
   ]
  },
  {
   "cell_type": "code",
   "execution_count": 28,
   "metadata": {
    "collapsed": false
   },
   "outputs": [
    {
     "data": {
      "text/plain": [
       "[('good', 26947),\n",
       " ('food', 25118),\n",
       " ('great', 21195),\n",
       " ('order', 17617),\n",
       " ('time', 17437),\n",
       " ('wait', 15840),\n",
       " ('servic', 14416),\n",
       " ('back', 14212),\n",
       " ('love', 13683),\n",
       " ('delici', 12113)]"
      ]
     },
     "execution_count": 28,
     "metadata": {},
     "output_type": "execute_result"
    }
   ],
   "source": [
    "df.most_common(10)"
   ]
  },
  {
   "cell_type": "code",
   "execution_count": 29,
   "metadata": {
    "collapsed": false
   },
   "outputs": [
    {
     "name": "stdout",
     "output_type": "stream",
     "text": [
      "5000 58406\n"
     ]
    }
   ],
   "source": [
    "M = len(index_to_vocabulary)\n",
    "N = len(corpus)\n",
    "print(M, N)"
   ]
  },
  {
   "cell_type": "markdown",
   "metadata": {},
   "source": [
    "Produce the TFIDF matrix"
   ]
  },
  {
   "cell_type": "code",
   "execution_count": 30,
   "metadata": {
    "collapsed": false
   },
   "outputs": [],
   "source": [
    "tfidf = []\n",
    "for label, review in corpus:\n",
    "    vec = np.zeros(M)\n",
    "    for w, count in Counter(review).most_common():\n",
    "        vec[vocabulary_to_index[w]] = (1 + np.log(count)) * (1 + np.log(N/df[w]))\n",
    "    tfidf.append(vec)"
   ]
  },
  {
   "cell_type": "code",
   "execution_count": 31,
   "metadata": {
    "collapsed": false
   },
   "outputs": [],
   "source": [
    "class kNN():\n",
    "    def __init__(self, tfidf, y, lmbda):\n",
    "        self.tfidf = tfidf   # Training TFIDF matrix\n",
    "        self.y = y           # Training class labels\n",
    "        self.m = len(tfidf[0])  # Vector length\n",
    "        self.rs = [self.random_proj(self.m) for _ in range(lmbda)] # Initializing lmbda random vectors of length m\n",
    "        self.lookup = [self.h(doc) for doc in tfidf]   # Creating a lookup table for the training data\n",
    "        self.batches = defaultdict(list)\n",
    "        for tfidf_vec, h_vec, label in zip(self.tfidf, self.lookup, self.y):\n",
    "            self.batches[tuple(h_vec)].append((tfidf_vec, label))    \n",
    "    \n",
    "    def random_proj(self, m):\n",
    "        return np.random.uniform(-1, 1, m)\n",
    "    \n",
    "    def h(self, x):\n",
    "        return [self.sign(x.dot(r)) for r in self.rs]\n",
    "    \n",
    "    def sign(self, x):\n",
    "        if x >= 0: return 1\n",
    "        else: return 0\n",
    "\n",
    "    def cosine(self, vec1, vec2):\n",
    "        return vec1.dot(vec2) / (np.sqrt(vec1.dot(vec1)) * np.sqrt(vec2.dot(vec2)))\n",
    "    \n",
    "    def classify(self, x, k=5):\n",
    "        neighbors = self.nearest_neighbors(x, k)\n",
    "        return Counter([label for cos_sim, label in neighbors]).most_common()[0][0]\n",
    "    \n",
    "    def nearest_neighbors(self, x, k=5):\n",
    "        r = tuple(self.h(x))\n",
    "        bucket = self.batches[r]\n",
    "        return sorted([(self.cosine(x, tfidf_vec), label) for tfidf_vec, label in bucket], key=lambda v: -v[0])[0:k]\n",
    "    \n",
    "    def bruteNN(self, x, k=5):\n",
    "        return sorted([(self.cosine(x, vec), i) for i, vec in enumerate(self.tfidf)], key=lambda v: -v[0])[0:k]"
   ]
  },
  {
   "cell_type": "code",
   "execution_count": 168,
   "metadata": {
    "collapsed": false
   },
   "outputs": [],
   "source": [
    "knn = kNN(tfidf, final_labels, 2)"
   ]
  },
  {
   "cell_type": "markdown",
   "metadata": {},
   "source": [
    "Evaluation"
   ]
  },
  {
   "cell_type": "code",
   "execution_count": 56,
   "metadata": {
    "collapsed": false
   },
   "outputs": [],
   "source": [
    "test, ratings = load_yelp_reviews(['../data/yelp/'])"
   ]
  },
  {
   "cell_type": "code",
   "execution_count": 57,
   "metadata": {
    "collapsed": true
   },
   "outputs": [],
   "source": [
    "tokenized_reviews = [tokenizer.tokenize(review) for review in test]\n",
    "tokenized_reviews = [[token for split in review for token in re.findall(\"[a-z']+\", split)] for review in tokenized_reviews]\n",
    "tokenized_reviews = [[stemmer.stem(token) for token in review] for review in tokenized_reviews]\n",
    "tokenized_reviews = [[token for token in review if token not in stemmed_stopwords] for review in tokenized_reviews]"
   ]
  },
  {
   "cell_type": "code",
   "execution_count": 169,
   "metadata": {
    "collapsed": false
   },
   "outputs": [
    {
     "name": "stdout",
     "output_type": "stream",
     "text": [
      "1 loops, best of 3: 277 ms per loop\n"
     ]
    }
   ],
   "source": [
    "%timeit knn.classify(tfidf_test[0])"
   ]
  },
  {
   "cell_type": "code",
   "execution_count": 170,
   "metadata": {
    "collapsed": false
   },
   "outputs": [
    {
     "name": "stdout",
     "output_type": "stream",
     "text": [
      "10 loops, best of 3: 173 ms per loop\n"
     ]
    }
   ],
   "source": [
    "%timeit knn.classify(tfidf_test[1])"
   ]
  },
  {
   "cell_type": "code",
   "execution_count": 171,
   "metadata": {
    "collapsed": false
   },
   "outputs": [
    {
     "name": "stdout",
     "output_type": "stream",
     "text": [
      "1 loops, best of 3: 167 ms per loop\n"
     ]
    }
   ],
   "source": [
    "%timeit knn.classify(tfidf_test[2])"
   ]
  },
  {
   "cell_type": "code",
   "execution_count": 172,
   "metadata": {
    "collapsed": false
   },
   "outputs": [
    {
     "name": "stdout",
     "output_type": "stream",
     "text": [
      "10 loops, best of 3: 178 ms per loop\n"
     ]
    }
   ],
   "source": [
    "%timeit knn.classify(tfidf_test[3])"
   ]
  },
  {
   "cell_type": "code",
   "execution_count": 173,
   "metadata": {
    "collapsed": false
   },
   "outputs": [
    {
     "name": "stdout",
     "output_type": "stream",
     "text": [
      "1 loops, best of 3: 247 ms per loop\n"
     ]
    }
   ],
   "source": [
    "%timeit knn.classify(tfidf_test[4])"
   ]
  },
  {
   "cell_type": "code",
   "execution_count": 58,
   "metadata": {
    "collapsed": false
   },
   "outputs": [],
   "source": [
    "tfidf_test = []\n",
    "for review in tokenized_reviews:\n",
    "    vec = np.zeros(M)\n",
    "    for w, count in Counter(review).most_common():\n",
    "        if w in index_to_vocabulary:\n",
    "            vec[vocabulary_to_index[w]] = (1 + np.log(count)) * (1 + np.log(N/df[w]))\n",
    "    tfidf_test.append(vec)"
   ]
  },
  {
   "cell_type": "code",
   "execution_count": 59,
   "metadata": {
    "collapsed": false
   },
   "outputs": [],
   "source": [
    "from time import time"
   ]
  },
  {
   "cell_type": "code",
   "execution_count": 139,
   "metadata": {
    "collapsed": false
   },
   "outputs": [
    {
     "ename": "KeyboardInterrupt",
     "evalue": "",
     "output_type": "error",
     "traceback": [
      "\u001b[1;31m---------------------------------------------------------------------------\u001b[0m",
      "\u001b[1;31mKeyboardInterrupt\u001b[0m                         Traceback (most recent call last)",
      "\u001b[1;32m<ipython-input-139-2ad4088844e2>\u001b[0m in \u001b[0;36m<module>\u001b[1;34m()\u001b[0m\n\u001b[0;32m      2\u001b[0m \u001b[1;32mfor\u001b[0m \u001b[0mx\u001b[0m \u001b[1;32min\u001b[0m \u001b[0mtfidf_test\u001b[0m\u001b[1;33m:\u001b[0m\u001b[1;33m\u001b[0m\u001b[0m\n\u001b[0;32m      3\u001b[0m     \u001b[0mstart\u001b[0m \u001b[1;33m=\u001b[0m \u001b[0mtime\u001b[0m\u001b[1;33m(\u001b[0m\u001b[1;33m)\u001b[0m\u001b[1;33m\u001b[0m\u001b[0m\n\u001b[1;32m----> 4\u001b[1;33m     \u001b[0mneighbors\u001b[0m \u001b[1;33m=\u001b[0m \u001b[0mknn\u001b[0m\u001b[1;33m.\u001b[0m\u001b[0mnearest_neighbors\u001b[0m\u001b[1;33m(\u001b[0m\u001b[0mx\u001b[0m\u001b[1;33m,\u001b[0m \u001b[1;36m5\u001b[0m\u001b[1;33m)\u001b[0m\u001b[1;33m\u001b[0m\u001b[0m\n\u001b[0m\u001b[0;32m      5\u001b[0m     \u001b[0mruntime\u001b[0m \u001b[1;33m=\u001b[0m \u001b[0mtime\u001b[0m\u001b[1;33m(\u001b[0m\u001b[1;33m)\u001b[0m \u001b[1;33m-\u001b[0m \u001b[0mstart\u001b[0m\u001b[1;33m\u001b[0m\u001b[0m\n\u001b[0;32m      6\u001b[0m     '''start = time()\n",
      "\u001b[1;32m<ipython-input-64-6471a4557136>\u001b[0m in \u001b[0;36mnearest_neighbors\u001b[1;34m(self, x, k)\u001b[0m\n\u001b[0;32m     30\u001b[0m         \u001b[0mr\u001b[0m \u001b[1;33m=\u001b[0m \u001b[0mtuple\u001b[0m\u001b[1;33m(\u001b[0m\u001b[0mself\u001b[0m\u001b[1;33m.\u001b[0m\u001b[0mh\u001b[0m\u001b[1;33m(\u001b[0m\u001b[0mx\u001b[0m\u001b[1;33m)\u001b[0m\u001b[1;33m)\u001b[0m\u001b[1;33m\u001b[0m\u001b[0m\n\u001b[0;32m     31\u001b[0m         \u001b[0mbucket\u001b[0m \u001b[1;33m=\u001b[0m \u001b[0mself\u001b[0m\u001b[1;33m.\u001b[0m\u001b[0mbatches\u001b[0m\u001b[1;33m[\u001b[0m\u001b[0mr\u001b[0m\u001b[1;33m]\u001b[0m\u001b[1;33m\u001b[0m\u001b[0m\n\u001b[1;32m---> 32\u001b[1;33m         \u001b[1;32mreturn\u001b[0m \u001b[0msorted\u001b[0m\u001b[1;33m(\u001b[0m\u001b[1;33m[\u001b[0m\u001b[1;33m(\u001b[0m\u001b[0mself\u001b[0m\u001b[1;33m.\u001b[0m\u001b[0mcosine\u001b[0m\u001b[1;33m(\u001b[0m\u001b[0mx\u001b[0m\u001b[1;33m,\u001b[0m \u001b[0mtfidf_vec\u001b[0m\u001b[1;33m)\u001b[0m\u001b[1;33m,\u001b[0m \u001b[0mlabel\u001b[0m\u001b[1;33m)\u001b[0m \u001b[1;32mfor\u001b[0m \u001b[0mtfidf_vec\u001b[0m\u001b[1;33m,\u001b[0m \u001b[0mlabel\u001b[0m \u001b[1;32min\u001b[0m \u001b[0mbucket\u001b[0m\u001b[1;33m]\u001b[0m\u001b[1;33m,\u001b[0m \u001b[0mkey\u001b[0m\u001b[1;33m=\u001b[0m\u001b[1;32mlambda\u001b[0m \u001b[0mv\u001b[0m\u001b[1;33m:\u001b[0m \u001b[1;33m-\u001b[0m\u001b[0mv\u001b[0m\u001b[1;33m[\u001b[0m\u001b[1;36m0\u001b[0m\u001b[1;33m]\u001b[0m\u001b[1;33m)\u001b[0m\u001b[1;33m[\u001b[0m\u001b[1;36m0\u001b[0m\u001b[1;33m:\u001b[0m\u001b[0mk\u001b[0m\u001b[1;33m]\u001b[0m\u001b[1;33m\u001b[0m\u001b[0m\n\u001b[0m\u001b[0;32m     33\u001b[0m \u001b[1;33m\u001b[0m\u001b[0m\n\u001b[0;32m     34\u001b[0m     \u001b[1;32mdef\u001b[0m \u001b[0mbruteNN\u001b[0m\u001b[1;33m(\u001b[0m\u001b[0mself\u001b[0m\u001b[1;33m,\u001b[0m \u001b[0mx\u001b[0m\u001b[1;33m,\u001b[0m \u001b[0mk\u001b[0m\u001b[1;33m=\u001b[0m\u001b[1;36m5\u001b[0m\u001b[1;33m)\u001b[0m\u001b[1;33m:\u001b[0m\u001b[1;33m\u001b[0m\u001b[0m\n",
      "\u001b[1;32m<ipython-input-64-6471a4557136>\u001b[0m in \u001b[0;36m<listcomp>\u001b[1;34m(.0)\u001b[0m\n\u001b[0;32m     30\u001b[0m         \u001b[0mr\u001b[0m \u001b[1;33m=\u001b[0m \u001b[0mtuple\u001b[0m\u001b[1;33m(\u001b[0m\u001b[0mself\u001b[0m\u001b[1;33m.\u001b[0m\u001b[0mh\u001b[0m\u001b[1;33m(\u001b[0m\u001b[0mx\u001b[0m\u001b[1;33m)\u001b[0m\u001b[1;33m)\u001b[0m\u001b[1;33m\u001b[0m\u001b[0m\n\u001b[0;32m     31\u001b[0m         \u001b[0mbucket\u001b[0m \u001b[1;33m=\u001b[0m \u001b[0mself\u001b[0m\u001b[1;33m.\u001b[0m\u001b[0mbatches\u001b[0m\u001b[1;33m[\u001b[0m\u001b[0mr\u001b[0m\u001b[1;33m]\u001b[0m\u001b[1;33m\u001b[0m\u001b[0m\n\u001b[1;32m---> 32\u001b[1;33m         \u001b[1;32mreturn\u001b[0m \u001b[0msorted\u001b[0m\u001b[1;33m(\u001b[0m\u001b[1;33m[\u001b[0m\u001b[1;33m(\u001b[0m\u001b[0mself\u001b[0m\u001b[1;33m.\u001b[0m\u001b[0mcosine\u001b[0m\u001b[1;33m(\u001b[0m\u001b[0mx\u001b[0m\u001b[1;33m,\u001b[0m \u001b[0mtfidf_vec\u001b[0m\u001b[1;33m)\u001b[0m\u001b[1;33m,\u001b[0m \u001b[0mlabel\u001b[0m\u001b[1;33m)\u001b[0m \u001b[1;32mfor\u001b[0m \u001b[0mtfidf_vec\u001b[0m\u001b[1;33m,\u001b[0m \u001b[0mlabel\u001b[0m \u001b[1;32min\u001b[0m \u001b[0mbucket\u001b[0m\u001b[1;33m]\u001b[0m\u001b[1;33m,\u001b[0m \u001b[0mkey\u001b[0m\u001b[1;33m=\u001b[0m\u001b[1;32mlambda\u001b[0m \u001b[0mv\u001b[0m\u001b[1;33m:\u001b[0m \u001b[1;33m-\u001b[0m\u001b[0mv\u001b[0m\u001b[1;33m[\u001b[0m\u001b[1;36m0\u001b[0m\u001b[1;33m]\u001b[0m\u001b[1;33m)\u001b[0m\u001b[1;33m[\u001b[0m\u001b[1;36m0\u001b[0m\u001b[1;33m:\u001b[0m\u001b[0mk\u001b[0m\u001b[1;33m]\u001b[0m\u001b[1;33m\u001b[0m\u001b[0m\n\u001b[0m\u001b[0;32m     33\u001b[0m \u001b[1;33m\u001b[0m\u001b[0m\n\u001b[0;32m     34\u001b[0m     \u001b[1;32mdef\u001b[0m \u001b[0mbruteNN\u001b[0m\u001b[1;33m(\u001b[0m\u001b[0mself\u001b[0m\u001b[1;33m,\u001b[0m \u001b[0mx\u001b[0m\u001b[1;33m,\u001b[0m \u001b[0mk\u001b[0m\u001b[1;33m=\u001b[0m\u001b[1;36m5\u001b[0m\u001b[1;33m)\u001b[0m\u001b[1;33m:\u001b[0m\u001b[1;33m\u001b[0m\u001b[0m\n",
      "\u001b[1;32m<ipython-input-64-6471a4557136>\u001b[0m in \u001b[0;36mcosine\u001b[1;34m(self, vec1, vec2)\u001b[0m\n\u001b[0;32m     21\u001b[0m \u001b[1;33m\u001b[0m\u001b[0m\n\u001b[0;32m     22\u001b[0m     \u001b[1;32mdef\u001b[0m \u001b[0mcosine\u001b[0m\u001b[1;33m(\u001b[0m\u001b[0mself\u001b[0m\u001b[1;33m,\u001b[0m \u001b[0mvec1\u001b[0m\u001b[1;33m,\u001b[0m \u001b[0mvec2\u001b[0m\u001b[1;33m)\u001b[0m\u001b[1;33m:\u001b[0m\u001b[1;33m\u001b[0m\u001b[0m\n\u001b[1;32m---> 23\u001b[1;33m         \u001b[1;32mreturn\u001b[0m \u001b[0mvec1\u001b[0m\u001b[1;33m.\u001b[0m\u001b[0mdot\u001b[0m\u001b[1;33m(\u001b[0m\u001b[0mvec2\u001b[0m\u001b[1;33m)\u001b[0m \u001b[1;33m/\u001b[0m \u001b[1;33m(\u001b[0m\u001b[0mnp\u001b[0m\u001b[1;33m.\u001b[0m\u001b[0msqrt\u001b[0m\u001b[1;33m(\u001b[0m\u001b[0mvec1\u001b[0m\u001b[1;33m.\u001b[0m\u001b[0mdot\u001b[0m\u001b[1;33m(\u001b[0m\u001b[0mvec1\u001b[0m\u001b[1;33m)\u001b[0m\u001b[1;33m)\u001b[0m \u001b[1;33m*\u001b[0m \u001b[0mnp\u001b[0m\u001b[1;33m.\u001b[0m\u001b[0msqrt\u001b[0m\u001b[1;33m(\u001b[0m\u001b[0mvec2\u001b[0m\u001b[1;33m.\u001b[0m\u001b[0mdot\u001b[0m\u001b[1;33m(\u001b[0m\u001b[0mvec2\u001b[0m\u001b[1;33m)\u001b[0m\u001b[1;33m)\u001b[0m\u001b[1;33m)\u001b[0m\u001b[1;33m\u001b[0m\u001b[0m\n\u001b[0m\u001b[0;32m     24\u001b[0m \u001b[1;33m\u001b[0m\u001b[0m\n\u001b[0;32m     25\u001b[0m     \u001b[1;32mdef\u001b[0m \u001b[0mclassify\u001b[0m\u001b[1;33m(\u001b[0m\u001b[0mself\u001b[0m\u001b[1;33m,\u001b[0m \u001b[0mx\u001b[0m\u001b[1;33m,\u001b[0m \u001b[0mk\u001b[0m\u001b[1;33m=\u001b[0m\u001b[1;36m5\u001b[0m\u001b[1;33m)\u001b[0m\u001b[1;33m:\u001b[0m\u001b[1;33m\u001b[0m\u001b[0m\n",
      "\u001b[1;31mKeyboardInterrupt\u001b[0m: "
     ]
    }
   ],
   "source": [
    "run = []\n",
    "for x in tfidf_test:\n",
    "    start = time()\n",
    "    neighbors = knn.nearest_neighbors(x, 5)\n",
    "    runtime = time() - start\n",
    "    '''start = time()\n",
    "    knn.bruteNN(x, 5)\n",
    "    run.append((runtime, time() - start))'''\n",
    "    run.append(runtime)"
   ]
  },
  {
   "cell_type": "code",
   "execution_count": 74,
   "metadata": {
    "collapsed": false
   },
   "outputs": [
    {
     "name": "stdout",
     "output_type": "stream",
     "text": [
      "Runtime for random projection: 0.037026 \n",
      "Runtime for brute search: 0.908554\n"
     ]
    }
   ],
   "source": [
    "means = np.mean(np.array(run), axis=0)\n",
    "print('Runtime for random projection: {0:2f} \\nRuntime for brute search: {1:2f}'.format(means[0], means[1]))"
   ]
  },
  {
   "cell_type": "code",
   "execution_count": 98,
   "metadata": {
    "collapsed": false
   },
   "outputs": [
    {
     "name": "stdout",
     "output_type": "stream",
     "text": [
      "tapa small plate tini joy cafe ba ba reeba version group tapa sampl drink split pitcher peach sangria good full glass spare food person bacon wrap date steak spici green pepper brais short rib mash potato dessert chocol truffl cake wrong bacon wrap date steak spici potato impress pair green pepper good tapa paella favorit paella paella brais short rib mouth succul expect chocol cake standard impress good servic plate make order impress concept tapa higher servic standard restaur plate wait show eat\n",
      "star cafe babareeba delici bit commerci trendi item english fanci sangria big fan cafe iberico gave star night tapa paella sangria iberico iberico write review notic item order night back iberico order decid review heard good thing cafe babareeba time night peopl seat busi assum girl time knew order rest quick jump start pitcher white peach sangria person order black raspberri start spici potato tomato alioli chees bake tomato calamari spici potato delici chees tast bit strang good calamari peopl comment calamari bit chewi good order paella split plate serv portion agre paella cafe iberico order beef tenderloin blue chees beef horseradish brais short rib mash potato beef tenderloin fantast juici medium rare beef care beef tast bit juici brais short rib tender yummi mash potato bad big person brought serv chocol cake small tapa pretti good food feel full bill end person split recommend time object\n",
      "call ba ba reeba pitcher sangria talk life eat eat eat cheer good peopl good food pitcher peach sangria spend weekend night favorit tapa salmon potato la eat beef lamb pork short rib popular meat eat tabl love sangria\n",
      "restaur time choic chicago back time part lincoln park minut walk lot lincoln park back cafe reeba food delici order date beef mash potato potato brava tapa good sangria pitcher share share thing experi perfect recommend paella cafe reeba wrong good paella cafe iberico great tapa chicago\n",
      "cafe ba ba reeba delici cafe iberico parti good peopl bring larger group start pitcher sangria good stronger expect glass chorizo bacon wrap date sooo good glad calamari cook crunchi tender garlic potato spici potato chicken beef horseradish hmmm paella free text club great shrimp scallop perfect cook tomato mm mm mm total tapa pitcher sangria back\n"
     ]
    }
   ],
   "source": [
    "x = tfidf_test[0]\n",
    "neighbors = knn.nearest_neighbors(x, 5)\n",
    "for cos_sim, neighbor in neighbors:\n",
    "    print(' '.join(final_reviews[neighbor]))"
   ]
  },
  {
   "cell_type": "code",
   "execution_count": 560,
   "metadata": {
    "collapsed": false,
    "scrolled": true
   },
   "outputs": [
    {
     "data": {
      "text/plain": [
       "\"Ahhh tapas, the small plates that contain individual tiny bites of joy. Cafe Ba-Ba-Reeba does their versions very well.In a group of 8, celebrating a birthday, many of the tapas were sampled and many drinks were to be had. Four of us split a pitcher of peach sangria, which was very good, each of us got two full glasses and there was a little top off to spare. As far as the food I personally took bites of:Bacon wrapped dates (5/5)Steak skewers (4/5)Spicy Potatotes (4/5)Fried Green Peppers (3/5) andPaella Valenciana (5/5)Braised short ribs w/mashed potatoes (5/5)Dessert - Chocolate Truffle Cake (3/5)You can't go wrong with bacon wrapped dates. The steak skewers and spicy potatoes were more impressive because of the sauce pairings. The fried green peppers were good, just not much to them, not a punch in the bite like I like my tapas. The paella was my favorite paella ever, mostly because paella usually comes with seafood and this one did not. Also it was done well. The braised short ribs I got to myself and every mouthful was very succulent and exactly like I would have wanted and was expecting. The chocolate cake was standard, nothing impressive, but good all the same. Service was around, clearing plates and making sure we got what all of our orders. Very impressive, especially since the concept of tapas induces a higher service standard than restaurants with the normal three plates.I can't wait to take the Mister here to show him how to eat like we do in España.\""
      ]
     },
     "execution_count": 560,
     "metadata": {},
     "output_type": "execute_result"
    }
   ],
   "source": [
    "test[0]"
   ]
  },
  {
   "cell_type": "markdown",
   "metadata": {},
   "source": [
    "## Cross-validation"
   ]
  },
  {
   "cell_type": "code",
   "execution_count": 32,
   "metadata": {
    "collapsed": false
   },
   "outputs": [],
   "source": [
    "folds = sklearn.cross_validation.KFold(N, n_folds=10, shuffle=True)"
   ]
  },
  {
   "cell_type": "code",
   "execution_count": 33,
   "metadata": {
    "collapsed": true
   },
   "outputs": [],
   "source": [
    "X = final_reviews\n",
    "y = final_labels"
   ]
  },
  {
   "cell_type": "code",
   "execution_count": 34,
   "metadata": {
    "collapsed": false
   },
   "outputs": [],
   "source": [
    "def metrics(preds, trues):\n",
    "    conf = Counter([(a, b) for a, b in zip(preds, trues)])\n",
    "    precision = conf[(1, 1)] / (conf[(1, 1)] + conf[(1, 0)])\n",
    "    recall = conf[(1, 1)] / (conf[(1, 1)] + conf[(0, 1)])\n",
    "    f1 = 2 * precision * recall / (precision + recall)\n",
    "    return precision, recall, f1"
   ]
  },
  {
   "cell_type": "code",
   "execution_count": 529,
   "metadata": {
    "collapsed": false
   },
   "outputs": [],
   "source": [
    "bayes_perf = []\n",
    "knn_perf = []\n",
    "\n",
    "for train_index, test_index in folds:\n",
    "    \n",
    "    X_train = [X[i] for i in train_index]\n",
    "    y_train = [y[i] for i in train_index]\n",
    "    corpus_train = [(a, b) for a, b in zip(y_train, X_train)]\n",
    "    X_test = [X[i] for i in test_index]\n",
    "    y_test = [y[i] for i in test_index]\n",
    "    tfidf_train = [tfidf[i] for i in train_index]\n",
    "    tfidf_test = [tfidf[i] for i in test_index]\n",
    "    \n",
    "    bayes = NaiveBayes(corpus_train, 0.1)\n",
    "    preds = [bayes.sign(doc) for doc in X_test]\n",
    "    bayes_perf.append(metrics(preds, y_test))\n",
    "    \n",
    "    knn = kNN(tfidf_train, y_train, 5)\n",
    "    preds = [knn.classify(vec) for vec in tfidf_test]\n",
    "    knn_perf.append(metrics(preds, y_test))"
   ]
  },
  {
   "cell_type": "code",
   "execution_count": 568,
   "metadata": {
    "collapsed": false
   },
   "outputs": [],
   "source": [
    "with open('perfs.txt', 'w') as f:\n",
    "    f.write(str(bayes_perf))\n",
    "    f.write(str(knn_perf))"
   ]
  },
  {
   "cell_type": "code",
   "execution_count": 533,
   "metadata": {
    "collapsed": true
   },
   "outputs": [],
   "source": [
    "from scipy import stats"
   ]
  },
  {
   "cell_type": "code",
   "execution_count": 558,
   "metadata": {
    "collapsed": false
   },
   "outputs": [
    {
     "data": {
      "text/plain": [
       "array([  4.59792638e-15,   1.64831808e-10,   1.08528979e-10])"
      ]
     },
     "execution_count": 558,
     "metadata": {},
     "output_type": "execute_result"
    }
   ],
   "source": [
    "mean_d = np.mean(np.array(bayes_perf) - np.array(knn_perf), axis=0)\n",
    "mean_se = np.std(np.array(bayes_perf) - np.array(knn_perf), axis=0) / np.sqrt(10)\n",
    "ts = mean_d / mean_se\n",
    "pvals = stats.t.sf(np.abs(ts), 9)*2\n",
    "pvals"
   ]
  },
  {
   "cell_type": "markdown",
   "metadata": {},
   "source": [
    "## Parameter Tuning"
   ]
  },
  {
   "cell_type": "markdown",
   "metadata": {},
   "source": [
    "Optimize lmbda in kNN and delta in NaiveBayes"
   ]
  },
  {
   "cell_type": "code",
   "execution_count": 128,
   "metadata": {
    "collapsed": false
   },
   "outputs": [],
   "source": [
    "folds = sklearn.cross_validation.KFold(N, n_folds=10, shuffle=True)"
   ]
  },
  {
   "cell_type": "code",
   "execution_count": 107,
   "metadata": {
    "collapsed": false
   },
   "outputs": [],
   "source": [
    "bayes_perf = []\n",
    "#deltas = [0.0001]\n",
    "deltas = [0.00001, 0.0001, 0.001, 0.01, 0.1, 1]\n",
    "\n",
    "for train_index, test_index in folds:\n",
    "    \n",
    "    X_train = [X[i] for i in train_index]\n",
    "    y_train = [y[i] for i in train_index]\n",
    "    corpus_train = [(a, b) for a, b in zip(y_train, X_train)]\n",
    "    X_test = [X[i] for i in test_index]\n",
    "    y_test = [y[i] for i in test_index]\n",
    "    \n",
    "    for delta in deltas:\n",
    "        bayes = NaiveBayes(corpus_train, delta)\n",
    "        preds = [bayes.sign(doc) for doc in X_test]\n",
    "        bayes_perf.append((delta, metrics(preds, y_test)))"
   ]
  },
  {
   "cell_type": "code",
   "execution_count": 99,
   "metadata": {
    "collapsed": true
   },
   "outputs": [],
   "source": [
    "lmbdas = np.random.randint(1, 10)"
   ]
  },
  {
   "cell_type": "code",
   "execution_count": 100,
   "metadata": {
    "collapsed": false
   },
   "outputs": [
    {
     "data": {
      "text/plain": [
       "array([2, 7, 3, 6, 2])"
      ]
     },
     "execution_count": 100,
     "metadata": {},
     "output_type": "execute_result"
    }
   ],
   "source": [
    "lmbdas"
   ]
  },
  {
   "cell_type": "code",
   "execution_count": 105,
   "metadata": {
    "collapsed": false
   },
   "outputs": [
    {
     "name": "stdout",
     "output_type": "stream",
     "text": [
      "46724\n",
      "46725\n",
      "46725\n",
      "46725\n",
      "46725\n"
     ]
    }
   ],
   "source": [
    "for train_index, test_index in folds:\n",
    "    print(len(train_index))"
   ]
  },
  {
   "cell_type": "code",
   "execution_count": 106,
   "metadata": {
    "collapsed": false
   },
   "outputs": [
    {
     "data": {
      "text/plain": [
       "58406"
      ]
     },
     "execution_count": 106,
     "metadata": {},
     "output_type": "execute_result"
    }
   ],
   "source": [
    "len(tfidf)"
   ]
  },
  {
   "cell_type": "code",
   "execution_count": 107,
   "metadata": {
    "collapsed": true
   },
   "outputs": [],
   "source": [
    "tfidf_train = [tfidf[i] for i in range(0, 46724)]\n",
    "y_train = [y[i] for i in range(0, 46724)]\n",
    "tfidf_test = [tfidf[i] for i in range(46724, 58405)]\n",
    "y_test = [y[i] for i in range(46724, 58405)]"
   ]
  },
  {
   "cell_type": "code",
   "execution_count": 120,
   "metadata": {
    "collapsed": false
   },
   "outputs": [],
   "source": [
    "knn = kNN(tfidf_train, y_train, 8)"
   ]
  },
  {
   "cell_type": "code",
   "execution_count": 126,
   "metadata": {
    "collapsed": false
   },
   "outputs": [
    {
     "name": "stdout",
     "output_type": "stream",
     "text": [
      "36.79567527770996\n"
     ]
    }
   ],
   "source": [
    "t = time()\n",
    "preds = [knn.classify(vec) for vec in tfidf_test]\n",
    "print(time() - t)"
   ]
  },
  {
   "cell_type": "code",
   "execution_count": 127,
   "metadata": {
    "collapsed": false
   },
   "outputs": [
    {
     "data": {
      "text/plain": [
       "(0.8066679083628236, 0.9501974550241334, 0.87256975924247)"
      ]
     },
     "execution_count": 127,
     "metadata": {},
     "output_type": "execute_result"
    }
   ],
   "source": [
    "metrics(preds, y_test)"
   ]
  },
  {
   "cell_type": "code",
   "execution_count": 129,
   "metadata": {
    "collapsed": false
   },
   "outputs": [
    {
     "name": "stdout",
     "output_type": "stream",
     "text": [
      "0 2\n",
      "0 5\n",
      "0 8\n",
      "1 2\n",
      "1 5\n",
      "1 8\n",
      "2 2\n",
      "2 5\n",
      "2 8\n",
      "3 2\n",
      "3 5\n",
      "3 8\n",
      "4 2\n",
      "4 5\n",
      "4 8\n",
      "5 2\n",
      "5 5\n",
      "5 8\n",
      "6 2\n",
      "6 5\n",
      "6 8\n",
      "7 2\n",
      "7 5\n",
      "7 8\n",
      "8 2\n",
      "8 5\n",
      "8 8\n",
      "9 2\n",
      "9 5\n",
      "9 8\n"
     ]
    }
   ],
   "source": [
    "knn_perf = []\n",
    "lmbdas = [2, 4, 6, 8, 10]\n",
    "j = 0\n",
    "\n",
    "for train_index, test_index in folds:\n",
    "    \n",
    "    tfidf_train = [tfidf[i] for i in train_index]\n",
    "    y_train = [y[i] for i in train_index]\n",
    "    tfidf_test = [tfidf[i] for i in test_index]\n",
    "    y_test = [y[i] for i in test_index]\n",
    "    \n",
    "    for lmbda in lmbdas:\n",
    "        knn = kNN(tfidf_train, y_train, lmbda)\n",
    "        preds = [knn.classify(vec) for vec in tfidf_test]\n",
    "        knn_perf.append((lmbda, metrics(preds, y_test)))\n",
    "        print(j, lmbda)\n",
    "    j += 1"
   ]
  },
  {
   "cell_type": "code",
   "execution_count": 36,
   "metadata": {
    "collapsed": false
   },
   "outputs": [],
   "source": [
    "knn = kNN(tfidf, y, 5)"
   ]
  },
  {
   "cell_type": "code",
   "execution_count": 39,
   "metadata": {
    "collapsed": false
   },
   "outputs": [
    {
     "data": {
      "text/plain": [
       "1"
      ]
     },
     "execution_count": 39,
     "metadata": {},
     "output_type": "execute_result"
    }
   ],
   "source": [
    "knn.classify(tfidf[0], 7)"
   ]
  },
  {
   "cell_type": "code",
   "execution_count": null,
   "metadata": {
    "collapsed": true
   },
   "outputs": [],
   "source": [
    "knn_perf = []"
   ]
  },
  {
   "cell_type": "code",
   "execution_count": 47,
   "metadata": {
    "collapsed": false
   },
   "outputs": [
    {
     "name": "stdout",
     "output_type": "stream",
     "text": [
      "0 11\n",
      "0 19\n",
      "1 11\n",
      "1 19\n",
      "2 11\n",
      "2 19\n",
      "3 11\n",
      "3 19\n",
      "4 11\n",
      "4 19\n",
      "5 11\n",
      "5 19\n",
      "6 11\n",
      "6 19\n",
      "7 11\n",
      "7 19\n",
      "8 11\n",
      "8 19\n",
      "9 11\n",
      "9 19\n"
     ]
    }
   ],
   "source": [
    "ks = [11, 19]\n",
    "j = 0\n",
    "\n",
    "for train_index, test_index in folds:\n",
    "    \n",
    "    tfidf_train = [tfidf[i] for i in train_index]\n",
    "    y_train = [y[i] for i in train_index]\n",
    "    tfidf_test = [tfidf[i] for i in test_index]\n",
    "    y_test = [y[i] for i in test_index]\n",
    "    knn = kNN(tfidf_train, y_train, 5)\n",
    "    \n",
    "    for k in ks:\n",
    "        print(j, k)\n",
    "        preds = [knn.classify(vec, k) for vec in tfidf_test]\n",
    "        knn_perf.append((k, metrics(preds, y_test)))\n",
    "    j += 1"
   ]
  },
  {
   "cell_type": "code",
   "execution_count": 51,
   "metadata": {
    "collapsed": false
   },
   "outputs": [
    {
     "data": {
      "text/plain": [
       "[0.8677054689886954,\n",
       " 0.8759387203364375,\n",
       " 0.8769383697813121,\n",
       " 0.8758090614886731,\n",
       " 0.8852165256346441,\n",
       " 0.8861009582139683,\n",
       " 0.8673417203641199,\n",
       " 0.8781074578989574,\n",
       " 0.8823938761308282,\n",
       " 0.8736713000817662,\n",
       " 0.8795653486266224,\n",
       " 0.8811397828036267,\n",
       " 0.8740755749164218,\n",
       " 0.8825580237075406,\n",
       " 0.8837301195297836,\n",
       " 0.8769324654190399,\n",
       " 0.8857683497659596,\n",
       " 0.8868259924945685,\n",
       " 0.8662122291179164,\n",
       " 0.8773263958375025,\n",
       " 0.8815607050901169,\n",
       " 0.8681901652723933,\n",
       " 0.8782739588559959,\n",
       " 0.8783110934076878,\n",
       " 0.8686702346644709,\n",
       " 0.8767676767676769,\n",
       " 0.8781024819855885,\n",
       " 0.8721512519161984,\n",
       " 0.88012904526666,\n",
       " 0.8806863527533919,\n",
       " 0.8765371372356123,\n",
       " 0.8772820462755052,\n",
       " 0.8848674557370634,\n",
       " 0.8846564959673502,\n",
       " 0.8813426243988616,\n",
       " 0.8808643176951528,\n",
       " 0.8841235490851858,\n",
       " 0.883394977613393,\n",
       " 0.888540953126529,\n",
       " 0.887527947895402,\n",
       " 0.8871062414400313,\n",
       " 0.8864077669902912,\n",
       " 0.8845439436895103,\n",
       " 0.8848920863309353,\n",
       " 0.8779767762251526,\n",
       " 0.8783347991791264,\n",
       " 0.8778851844545276,\n",
       " 0.8762240501370936,\n",
       " 0.88062930186824,\n",
       " 0.8804135778384706]"
      ]
     },
     "execution_count": 51,
     "metadata": {},
     "output_type": "execute_result"
    }
   ],
   "source": [
    "[f1 for k, (precision, recall, f1) in knn_perf]"
   ]
  }
 ],
 "metadata": {
  "kernelspec": {
   "display_name": "Python 3",
   "language": "python",
   "name": "python3"
  },
  "language_info": {
   "codemirror_mode": {
    "name": "ipython",
    "version": 3
   },
   "file_extension": ".py",
   "mimetype": "text/x-python",
   "name": "python",
   "nbconvert_exporter": "python",
   "pygments_lexer": "ipython3",
   "version": "3.5.1"
  }
 },
 "nbformat": 4,
 "nbformat_minor": 0
}
