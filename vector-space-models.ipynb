{
 "cells": [
  {
   "cell_type": "markdown",
   "metadata": {},
   "source": [
    "# Vector Space Models"
   ]
  },
  {
   "cell_type": "markdown",
   "metadata": {},
   "source": [
    "Author: Antoine Rigaut"
   ]
  },
  {
   "cell_type": "markdown",
   "metadata": {},
   "source": [
    "This notebook revolves around tokenization, stemming, normalization, constructing vector space representation for text documents, TF/IDF weighting, and computing similarity among different Yelp reviews."
   ]
  },
  {
   "cell_type": "code",
   "execution_count": 118,
   "metadata": {
    "collapsed": true
   },
   "outputs": [],
   "source": [
    "import json, os, re, nltk, math, urllib, itertools\n",
    "import numpy as np\n",
    "from collections import Counter\n",
    "import scipy.sparse as sparse"
   ]
  },
  {
   "cell_type": "code",
   "execution_count": 77,
   "metadata": {
    "collapsed": true
   },
   "outputs": [],
   "source": [
    "import matplotlib.pyplot as plt\n",
    "%matplotlib inline\n",
    "from IPython.core.pylabtools import figsize\n",
    "figsize(9, 6)"
   ]
  },
  {
   "cell_type": "markdown",
   "metadata": {},
   "source": [
    "## Loading data"
   ]
  },
  {
   "cell_type": "markdown",
   "metadata": {},
   "source": [
    "The data consists of a small collection of Yelp restaurant reviews (38,688 review documents for training and 19,803 for testing). All files are in JSON format."
   ]
  },
  {
   "cell_type": "raw",
   "metadata": {},
   "source": [
    "{          \n",
    "    'Author':'author name (string)',\n",
    "    'ReviewID':'unique review id (string)',  \n",
    "    'Overall':'numerical rating of the review (float)',\n",
    "    'Content':'review text content (string)',   \n",
    "    'Date':'date when the review was published',   \n",
    "    'Author_Location':'author's registered location'  \n",
    "}"
   ]
  },
  {
   "cell_type": "markdown",
   "metadata": {},
   "source": [
    "We define a function for extracting Author, Date and the Content of each review"
   ]
  },
  {
   "cell_type": "code",
   "execution_count": 5,
   "metadata": {
    "collapsed": false
   },
   "outputs": [],
   "source": [
    "def load_yelp_reviews(path_to_json):\n",
    "    raw_reviews = []; authors = []; dates = []\n",
    "    json_files = [pos_json for pos_json in os.listdir(path_to_json) if pos_json.endswith('.json')]\n",
    "    pattern = re.compile(\"\\xa0\")\n",
    "    for js in json_files:\n",
    "        with open(os.path.join(path_to_json, js)) as json_file:\n",
    "            json_text = json.load(json_file)\n",
    "            for review in json_text['Reviews']:\n",
    "                authors.append(review['Author'])\n",
    "                dates.append(review['Date'])\n",
    "                content = pattern.sub('', review['Content'])\n",
    "                raw_reviews.append(content)\n",
    "    return raw_reviews, authors, dates"
   ]
  },
  {
   "cell_type": "code",
   "execution_count": 6,
   "metadata": {
    "collapsed": false
   },
   "outputs": [],
   "source": [
    "train, train_authors, train_dates = load_yelp_reviews('../data/yelp/train')\n",
    "test, test_authors, test_dates = load_yelp_reviews('../data/yelp/test')"
   ]
  },
  {
   "cell_type": "code",
   "execution_count": 84,
   "metadata": {
    "collapsed": false
   },
   "outputs": [],
   "source": [
    "TRAIN_SIZE = len(train)\n",
    "TEST_SIZE = len(test)"
   ]
  },
  {
   "cell_type": "markdown",
   "metadata": {},
   "source": [
    "38,688 reviews in train and 19,803 reviews in test"
   ]
  },
  {
   "cell_type": "code",
   "execution_count": 8,
   "metadata": {
    "collapsed": false
   },
   "outputs": [
    {
     "data": {
      "text/plain": [
       "\"We had our very last meal in N.O here and it was great. Their sweet tea was nice and sweet, and my meal was great. I decided to try a]the craw fish pie with a side of greens. It was pretty much an empanada stuffed with a filling similar to craw fish ettoufee. the pastry was flaky and perfectly baked or fried, I am not even sure, but it was very good. I tasted a bit of my friends macaroni and cheese, which was wonderful. After lunch, we also decided to order dessert, which was the Peanut Brittle homemade ice cream. I have never had ice cream so incredibly creamy. It was definitely homemade and the complete opposite of ice cream out of a carton. We loved it so much. We also realized that there was a butcher shop located right next door that was also affiliated with Cachon. We stopped there after finishing up our ice cream so that my friend's mother could order a traditional Muffaletta sandwich to take on the plane. She was kind enough to give me a piece, and I was so glad because it was amazing. The Muffaletta is a round sandwich with different sorts of meat and topped with a sauce consisting of olives. It was so good, it will be the first thing I eat if I ever make it back to New Orleans.\""
      ]
     },
     "execution_count": 8,
     "metadata": {},
     "output_type": "execute_result"
    }
   ],
   "source": [
    "train[0]"
   ]
  },
  {
   "cell_type": "markdown",
   "metadata": {},
   "source": [
    "** Sample review ** "
   ]
  },
  {
   "cell_type": "markdown",
   "metadata": {},
   "source": [
    "\"We had our very last meal in N.O here and it was great. Their sweet tea was nice and sweet, and my meal was great. I decided to try a]the craw fish pie with a side of greens. It was pretty much an empanada stuffed with a filling similar to craw fish ettoufee. the pastry was flaky and perfectly baked or fried, I am not even sure, but it was very good. I tasted a bit of my friends macaroni and cheese, which was wonderful. After lunch, we also decided to order dessert, which was the Peanut Brittle homemade ice cream. I have never had ice cream so incredibly creamy. It was definitely homemade and the complete opposite of ice cream out of a carton. We loved it so much. We also realized that there was a butcher shop located right next door that was also affiliated with Cachon. We stopped there after finishing up our ice cream so that my friend's mother could order a traditional Muffaletta sandwich to take on the plane. She was kind enough to give me a piece, and I was so glad because it was amazing. The Muffaletta is a round sandwich with different sorts of meat and topped with a sauce consisting of olives. It was so good, it will be the first thing I eat if I ever make it back to New Orleans.\""
   ]
  },
  {
   "cell_type": "markdown",
   "metadata": {},
   "source": [
    "## 1. Understand Zipf's Law"
   ]
  },
  {
   "cell_type": "markdown",
   "metadata": {},
   "source": [
    "If we count up how often each word (*type*) of a language occurs in a large corpus, and then list the words in order of their frequency of occurrence, we find an inverse relationship between the frequency of a word $f$ and its position in the list, known as its rank $r$.\n",
    "\n",
    "$$\n",
    "f = k/r\n",
    "$$\n",
    "\n",
    "where $k$ is a constant.\n",
    "This is Zipf's law. It is useful as a rough description of the frequency distribution of words in human languages: there are a few very common words, a middling number of medium frequency words, and many low frequency words."
   ]
  },
  {
   "cell_type": "markdown",
   "metadata": {},
   "source": [
    "Verify if Zipf's law is valid in this corpus of Yelp review."
   ]
  },
  {
   "cell_type": "markdown",
   "metadata": {},
   "source": [
    "## Text Preprocessing"
   ]
  },
  {
   "cell_type": "code",
   "execution_count": 129,
   "metadata": {
    "collapsed": false
   },
   "outputs": [],
   "source": [
    "raw_reviews = train + test"
   ]
  },
  {
   "cell_type": "markdown",
   "metadata": {},
   "source": [
    "Load a Stemmer and a Tokenizer from the **nltk** library."
   ]
  },
  {
   "cell_type": "code",
   "execution_count": 11,
   "metadata": {
    "collapsed": true
   },
   "outputs": [],
   "source": [
    "from nltk.stem.snowball import EnglishStemmer\n",
    "stemmer = EnglishStemmer()\n",
    "tokenizer = nltk.tokenize.TweetTokenizer(preserve_case=False, reduce_len=True)"
   ]
  },
  {
   "cell_type": "markdown",
   "metadata": {},
   "source": [
    "Filter out the punctuation during tokenization"
   ]
  },
  {
   "cell_type": "code",
   "execution_count": 130,
   "metadata": {
    "collapsed": false
   },
   "outputs": [],
   "source": [
    "punctuation = ['.', ',', '!', '?', '(', ')', ').', ';', ':', '\"', \"'\", \"''\", '\"\"', '``', '-', '/', '[', ']', '..', '...', '=', '*', '+']\n",
    "reviews = [[word for word in tokenizer.tokenize(review) if word not in punctuation] for review in raw_reviews]"
   ]
  },
  {
   "cell_type": "code",
   "execution_count": 131,
   "metadata": {
    "collapsed": false
   },
   "outputs": [],
   "source": [
    "reviews = [[split for token in review for split in re.split(r'[.!?]', token) if split != ''] for review in reviews]"
   ]
  },
  {
   "cell_type": "markdown",
   "metadata": {},
   "source": [
    "Numbers are replaced by a NUM tag using regular expressions. "
   ]
  },
  {
   "cell_type": "code",
   "execution_count": 133,
   "metadata": {
    "collapsed": false
   },
   "outputs": [],
   "source": [
    "reviews_num = []\n",
    "for review in reviews:\n",
    "    temp = []\n",
    "    for token in review:\n",
    "        if re.match('[0-9]+[\\.:,/]?[0-9]*[a-zA-Z]*', token) is None:\n",
    "            temp.append(token)\n",
    "        else:\n",
    "            temp.append('NUM')\n",
    "            if re.findall('[a-zA-Z]+', token):\n",
    "                temp.append(re.findall('[a-zA-Z]+', token)[0])\n",
    "    reviews_num.append(temp)"
   ]
  },
  {
   "cell_type": "markdown",
   "metadata": {},
   "source": [
    "And then perform stemming"
   ]
  },
  {
   "cell_type": "code",
   "execution_count": 134,
   "metadata": {
    "collapsed": true
   },
   "outputs": [],
   "source": [
    "reviews = [[stemmer.stem(token) if token != 'NUM' else token for token in review] for review in reviews_num]"
   ]
  },
  {
   "cell_type": "markdown",
   "metadata": {},
   "source": [
    "We consider hapaxes (word that appear only once in a document) as not very useful to the task of computing similarity between documents. Still, we will let them be, given that their presence or absence will have no impact on document similarity and we might bias our results for Zipf's law."
   ]
  },
  {
   "cell_type": "code",
   "execution_count": 75,
   "metadata": {
    "collapsed": false
   },
   "outputs": [
    {
     "name": "stdout",
     "output_type": "stream",
     "text": [
      "Our current vocabulary size is 51999\n",
      "Hapaxes represent 53.6 percent of the vocabulary\n",
      "But less than 0.37 percent of the types (tokens)\n"
     ]
    }
   ],
   "source": [
    "fdist = nltk.FreqDist(itertools.chain(*reviews))\n",
    "hapax = fdist.hapaxes()\n",
    "\n",
    "print('Our current vocabulary size is %s' % (fdist.B()))\n",
    "print('Hapaxes represent %.1f percent of the vocabulary' % (len(hapax) * 100/ fdist.B()))\n",
    "print('But less than %.2f percent of the types (tokens)' % (len(fdist.hapaxes())*100 / fdist.N()))"
   ]
  },
  {
   "cell_type": "markdown",
   "metadata": {},
   "source": [
    "### Unigram"
   ]
  },
  {
   "cell_type": "markdown",
   "metadata": {},
   "source": [
    "Download the stopwords and use the same Stemmer in order to normalize them"
   ]
  },
  {
   "cell_type": "code",
   "execution_count": 76,
   "metadata": {
    "collapsed": false
   },
   "outputs": [],
   "source": [
    "words = urllib.request.urlopen('http://jmlr.org/papers/volume5/lewis04a/a11-smart-stop-list/english.stop')\n",
    "pattern = re.compile(r'\\n')\n",
    "stopwords = [pattern.sub('', word.decode(\"utf-8\")) for word in words]\n",
    "stemmed_stopwords = [stemmer.stem(word) for word in stopwords]"
   ]
  },
  {
   "cell_type": "markdown",
   "metadata": {},
   "source": [
    "Remove the stopwords"
   ]
  },
  {
   "cell_type": "code",
   "execution_count": 50,
   "metadata": {
    "collapsed": false
   },
   "outputs": [],
   "source": [
    "unigram = [token for review in reviews for token in review if token not in stemmed_stopwords]"
   ]
  },
  {
   "cell_type": "markdown",
   "metadata": {},
   "source": [
    "### Zipf's Law diagram"
   ]
  },
  {
   "cell_type": "code",
   "execution_count": 78,
   "metadata": {
    "collapsed": false
   },
   "outputs": [],
   "source": [
    "freqs = [freq for word, freq in fdist.most_common()]"
   ]
  },
  {
   "cell_type": "markdown",
   "metadata": {},
   "source": [
    "Compute an estimate of the log-log linear fit between frequency and rank in the frequency distribution"
   ]
  },
  {
   "cell_type": "code",
   "execution_count": 79,
   "metadata": {
    "collapsed": false
   },
   "outputs": [],
   "source": [
    "x = np.log10(np.arange(1, len(freqs)+1))\n",
    "y = np.log10(np.array(freqs))\n",
    "m, b = np.polyfit(x, y, 1)"
   ]
  },
  {
   "cell_type": "markdown",
   "metadata": {},
   "source": [
    "Plot the results"
   ]
  },
  {
   "cell_type": "code",
   "execution_count": 80,
   "metadata": {
    "collapsed": false
   },
   "outputs": [
    {
     "data": {
      "text/plain": [
       "<matplotlib.legend.Legend at 0x28f612f2630>"
      ]
     },
     "execution_count": 80,
     "metadata": {},
     "output_type": "execute_result"
    },
    {
     "data": {
      "image/png": "[encoded data removed]",
      "text/plain": [
       "<matplotlib.figure.Figure at 0x28f611c85c0>"
      ]
     },
     "metadata": {},
     "output_type": "display_data"
    }
   ],
   "source": [
    "plt.plot(x, y, '-', c='blue', label=\"Zipf's Law\")\n",
    "plt.plot(x, m*x + b, '--', c='red', label= (str(m) + 'x ' + '+ ' + str(b)))\n",
    "plt.xlabel('Rank in the Frequency Distribution')\n",
    "plt.ylabel('Frequency')\n",
    "plt.legend(loc='best', fontsize=15)"
   ]
  },
  {
   "cell_type": "markdown",
   "metadata": {},
   "source": [
    "Note that is a log-log scale. So in practice, we find Zipf's to be generally true, given the linear relationship we find between frequency and rank in the log-log scale. However, Zipf's law tend to underestimate the frequency of middle words, given the slight bump we observe in the curve towards the middle."
   ]
  },
  {
   "cell_type": "markdown",
   "metadata": {},
   "source": [
    "## 2. Construct a Controlled Vocabulary"
   ]
  },
  {
   "cell_type": "markdown",
   "metadata": {},
   "source": [
    "Generate all the bigrams and unigrams based on the resulting tokens from the pre-processing step (only in the train folder), and mix those bigrams with the unigrams as our initial controlled vocabulary."
   ]
  },
  {
   "cell_type": "code",
   "execution_count": 87,
   "metadata": {
    "collapsed": false
   },
   "outputs": [],
   "source": [
    "train_reviews = reviews[0:TRAIN_SIZE]"
   ]
  },
  {
   "cell_type": "code",
   "execution_count": 90,
   "metadata": {
    "collapsed": true
   },
   "outputs": [],
   "source": [
    "unigram = [[word for word in review if word not in stemmed_stopwords] for review in train_reviews]"
   ]
  },
  {
   "cell_type": "code",
   "execution_count": 104,
   "metadata": {
    "collapsed": false
   },
   "outputs": [],
   "source": [
    "# Construct the bigrams and filter out the bigrams that have at least one stopword\n",
    "bigrams = []\n",
    "for review in train_reviews:\n",
    "    review_bigrams = zip(*[review[i:] for i in range(2)])\n",
    "    bigrams.append(list(filter(lambda bigram: all([word not in stemmed_stopwords for word in bigram]), review_bigrams)))"
   ]
  },
  {
   "cell_type": "code",
   "execution_count": 107,
   "metadata": {
    "collapsed": true
   },
   "outputs": [],
   "source": [
    "ngram = []\n",
    "for uni, bi in zip(unigram, bigrams):\n",
    "    ngram.append(uni+bi)"
   ]
  },
  {
   "cell_type": "markdown",
   "metadata": {},
   "source": [
    "Collect the document frequency statistics for all the N-grams (i.e., unigram and bigram) in this initial controlled vocabulary"
   ]
  },
  {
   "cell_type": "code",
   "execution_count": 108,
   "metadata": {
    "collapsed": true
   },
   "outputs": [],
   "source": [
    "df = Counter()\n",
    "for review in ngram:\n",
    "    for unique_ngrams in set(review):\n",
    "        df[unique_ngrams] += 1"
   ]
  },
  {
   "cell_type": "markdown",
   "metadata": {},
   "source": [
    "Find out the top 100 N-grams by document-frequency"
   ]
  },
  {
   "cell_type": "code",
   "execution_count": 109,
   "metadata": {
    "collapsed": false
   },
   "outputs": [
    {
     "data": {
      "text/plain": [
       "[('good', 17744),\n",
       " ('NUM', 17025),\n",
       " ('food', 16802),\n",
       " ('great', 13723),\n",
       " ('order', 11913),\n",
       " ('time', 11287),\n",
       " ('wait', 9866),\n",
       " ('servic', 9531),\n",
       " ('back', 9361),\n",
       " ('friend', 9103),\n",
       " ('love', 9061),\n",
       " ('fri', 8677),\n",
       " ('delici', 7966),\n",
       " ('restaur', 7556),\n",
       " ('sauc', 7555),\n",
       " ('eat', 6986),\n",
       " ('dish', 6975),\n",
       " ('tabl', 6792),\n",
       " ('make', 6540),\n",
       " ('menu', 6233),\n",
       " ('chees', 6174),\n",
       " ('tast', 6084),\n",
       " ('amaz', 5899),\n",
       " ('chicago', 5884),\n",
       " ('thing', 5799),\n",
       " ('nice', 5668),\n",
       " ('peopl', 5469),\n",
       " ('pretti', 5458),\n",
       " ('seat', 5432),\n",
       " ('night', 5355),\n",
       " ('perfect', 5058),\n",
       " ('recommend', 4954),\n",
       " ('flavor', 4891),\n",
       " ('drink', 4886),\n",
       " ('bar', 4793),\n",
       " ('meal', 4745),\n",
       " ('price', 4735),\n",
       " ('dinner', 4614),\n",
       " ('small', 4544),\n",
       " ('$', 4514),\n",
       " ('favorit', 4483),\n",
       " ('bit', 4460),\n",
       " ('worth', 4429),\n",
       " (('$', 'NUM'), 4334),\n",
       " ('made', 4215),\n",
       " ('side', 4144),\n",
       " ('enjoy', 4140),\n",
       " ('chicken', 4131),\n",
       " ('experi', 4102),\n",
       " ('long', 4051),\n",
       " ('star', 4033),\n",
       " ('pizza', 4005),\n",
       " ('top', 4000),\n",
       " ('fresh', 3977),\n",
       " ('line', 3855),\n",
       " ('review', 3830),\n",
       " ('serv', 3794),\n",
       " ('day', 3729),\n",
       " ('lot', 3715),\n",
       " ('plate', 3703),\n",
       " ('atmospher', 3702),\n",
       " ('sweet', 3609),\n",
       " ('minut', 3529),\n",
       " ('tasti', 3471),\n",
       " ('expect', 3309),\n",
       " ('staff', 3304),\n",
       " ('visit', 3276),\n",
       " ('special', 3257),\n",
       " ('feel', 3225),\n",
       " ('lunch', 3189),\n",
       " ('awesom', 3183),\n",
       " ('reserv', 3164),\n",
       " ('french', 3156),\n",
       " ('hour', 3152),\n",
       " ('salad', 3089),\n",
       " ('big', 3021),\n",
       " ('excel', 3012),\n",
       " ('high', 2999),\n",
       " ('end', 2996),\n",
       " ('bread', 2994),\n",
       " ('disappoint', 2976),\n",
       " ('wine', 2972),\n",
       " ('bad', 2956),\n",
       " ('meat', 2939),\n",
       " ('server', 2923),\n",
       " ('hot', 2914),\n",
       " ('pork', 2913),\n",
       " ('share', 2870),\n",
       " (('NUM', 'minut'), 2854),\n",
       " ('start', 2839),\n",
       " ('portion', 2832),\n",
       " ('dessert', 2743),\n",
       " ('busi', 2736),\n",
       " ('sit', 2677),\n",
       " ('live', 2654),\n",
       " ('potato', 2629),\n",
       " ('&', 2615),\n",
       " ('crowd', 2600),\n",
       " ('burger', 2581),\n",
       " ('find', 2573)]"
      ]
     },
     "execution_count": 109,
     "metadata": {},
     "output_type": "execute_result"
    }
   ],
   "source": [
    "df.most_common(100)"
   ]
  },
  {
   "cell_type": "markdown",
   "metadata": {},
   "source": [
    "Controlled vocabulary size"
   ]
  },
  {
   "cell_type": "code",
   "execution_count": 110,
   "metadata": {
    "collapsed": false
   },
   "outputs": [
    {
     "data": {
      "text/plain": [
       "287589"
      ]
     },
     "execution_count": 110,
     "metadata": {},
     "output_type": "execute_result"
    }
   ],
   "source": [
    "len(df) - 100"
   ]
  },
  {
   "cell_type": "markdown",
   "metadata": {},
   "source": [
    "Filter out the most common 50 ngrams"
   ]
  },
  {
   "cell_type": "code",
   "execution_count": 111,
   "metadata": {
    "collapsed": false
   },
   "outputs": [],
   "source": [
    "restaurant_stop_ngrams = list(map(lambda x: x[0], df.most_common(50)))"
   ]
  },
  {
   "cell_type": "code",
   "execution_count": 112,
   "metadata": {
    "collapsed": false
   },
   "outputs": [],
   "source": [
    "ngram = [[word for word in review if word not in restaurant_stop_ngrams] for review in ngram]"
   ]
  },
  {
   "cell_type": "markdown",
   "metadata": {},
   "source": [
    "Find the new most common words"
   ]
  },
  {
   "cell_type": "code",
   "execution_count": 113,
   "metadata": {
    "collapsed": true
   },
   "outputs": [],
   "source": [
    "df = Counter()\n",
    "for review in ngram:\n",
    "    for unique_tokens in set(review):\n",
    "        df[unique_tokens]+= 1"
   ]
  },
  {
   "cell_type": "code",
   "execution_count": 114,
   "metadata": {
    "collapsed": false
   },
   "outputs": [],
   "source": [
    "most_common = df.most_common(50)"
   ]
  },
  {
   "cell_type": "markdown",
   "metadata": {},
   "source": [
    "Top 50 according to DF in the resulting controlled vocabulary, and their corresponding Inverse Document Frequency"
   ]
  },
  {
   "cell_type": "code",
   "execution_count": 116,
   "metadata": {
    "collapsed": false
   },
   "outputs": [
    {
     "data": {
      "text/plain": [
       "[('star', 3.2610189585411513),\n",
       " ('pizza', 3.2679858939120594),\n",
       " ('top', 3.2692351133124915),\n",
       " ('fresh', 3.2750017082068283),\n",
       " ('line', 3.3061584674170894),\n",
       " ('review', 3.3126646712398276),\n",
       " ('serv', 3.3221086029195597),\n",
       " ('day', 3.3393893732356985),\n",
       " ('lot', 3.3431507962626594),\n",
       " ('plate', 3.3463861725009068),\n",
       " ('atmospher', 3.3466562602810765),\n",
       " ('sweet', 3.3720987487717307),\n",
       " ('minut', 3.3945149297392492),\n",
       " ('tasti', 3.4110867375527332),\n",
       " ('expect', 3.4588834454929072),\n",
       " ('staff', 3.4603956187736507),\n",
       " ('visit', 3.4689063084415594),\n",
       " ('special', 3.474722948138286),\n",
       " ('feel', 3.4845965241846462),\n",
       " ('lunch', 3.4958220864044613),\n",
       " ('awesom', 3.4977053261324262),\n",
       " ('reserv', 3.5036924245269749),\n",
       " ('french', 3.5062240714487545),\n",
       " ('hour', 3.5074923024367495),\n",
       " ('salad', 3.5276820604959376),\n",
       " ('big', 3.5499415720278473),\n",
       " ('excel', 3.5529251644947348),\n",
       " ('high', 3.5572505746655101),\n",
       " ('end', 3.5582514087774091),\n",
       " ('bread', 3.5589191884349458),\n",
       " ('disappoint', 3.5649493574615367),\n",
       " ('wine', 3.5662943475768696),\n",
       " ('bad', 3.5716924713464269),\n",
       " ('meat', 3.5774600869956017),\n",
       " ('server', 3.5829189883032733),\n",
       " ('hot', 3.586002766659369),\n",
       " ('pork', 3.5863459964550848),\n",
       " ('share', 3.6012174446608527),\n",
       " (('NUM', 'minut'), 3.6068079553777377),\n",
       " ('start', 3.612077596941548),\n",
       " ('portion', 3.6145462986009087),\n",
       " ('dessert', 3.6464772624769162),\n",
       " ('busi', 3.6490324746720781),\n",
       " ('sit', 3.6708327098941669),\n",
       " ('live', 3.6794615385223666),\n",
       " ('potato', 3.6889259286846379),\n",
       " ('&', 3.6942653769154958),\n",
       " ('crowd', 3.7000180294049461),\n",
       " ('burger', 3.7073525536959053),\n",
       " ('find', 3.710456941132775)]"
      ]
     },
     "execution_count": 116,
     "metadata": {},
     "output_type": "execute_result"
    }
   ],
   "source": [
    "N = len(train)\n",
    "list(map(lambda word: (word[0], 1 + np.log(N/word[1])), most_common))"
   ]
  },
  {
   "cell_type": "markdown",
   "metadata": {},
   "source": [
    "Least common Ngrams with their corresponding IDF."
   ]
  },
  {
   "cell_type": "code",
   "execution_count": 117,
   "metadata": {
    "collapsed": false,
    "scrolled": true
   },
   "outputs": [
    {
     "data": {
      "text/plain": [
       "[(('head', 'chee'), 11.56328475341452),\n",
       " (('free', 'minti'), 11.56328475341452),\n",
       " (('drunken', 'bunch'), 11.56328475341452),\n",
       " ('sort-of-tir', 11.56328475341452),\n",
       " ('oh-so-right', 11.56328475341452),\n",
       " (('waiter', 'emphas'), 11.56328475341452),\n",
       " (('mushroom', 'orzo'), 11.56328475341452),\n",
       " (('home', 'bbq'), 11.56328475341452),\n",
       " (('quick', 'pretti'), 11.56328475341452),\n",
       " (('delici', 'crunchy-on-the-outsid'), 11.56328475341452),\n",
       " (('magnet', 'fast'), 11.56328475341452),\n",
       " (('dryer', 'sonoma'), 11.56328475341452),\n",
       " ((\"s'mac\", 'special'), 11.56328475341452),\n",
       " (('lip-smack', 'unctious'), 11.56328475341452),\n",
       " (('crunchi', 'shrimp'), 11.56328475341452),\n",
       " (('eclect', 'feel'), 11.56328475341452),\n",
       " (('glaze', 'appl'), 11.56328475341452),\n",
       " ('chaackkenn', 11.56328475341452),\n",
       " ('denteoctopus', 11.56328475341452),\n",
       " (('plump', 'recent'), 11.56328475341452),\n",
       " ('money--app', 11.56328475341452),\n",
       " (('sushi', 'spici'), 11.56328475341452),\n",
       " (('crunch', 'mmm'), 11.56328475341452),\n",
       " (('mayo', 'siracha'), 11.56328475341452),\n",
       " (('vegetarian', 'prefer'), 11.56328475341452),\n",
       " (('spinach', 'delici'), 11.56328475341452),\n",
       " (('fuck', 'full'), 11.56328475341452),\n",
       " (('tabl', 'lock'), 11.56328475341452),\n",
       " (('arugula', 'fontina'), 11.56328475341452),\n",
       " (('le', 'exhal'), 11.56328475341452),\n",
       " (('betterpric', 'decentoveral'), 11.56328475341452),\n",
       " (('cold', 'cucumb'), 11.56328475341452),\n",
       " (('impress', 'awesom'), 11.56328475341452),\n",
       " (('spanish', 'breakfast'), 11.56328475341452),\n",
       " (('montreal', 'cuisin'), 11.56328475341452),\n",
       " (('mayo', 'save'), 11.56328475341452),\n",
       " (('s-esk', 'atmospher'), 11.56328475341452),\n",
       " (('sound', 'worth'), 11.56328475341452),\n",
       " ('atmospherecasu', 11.56328475341452),\n",
       " (('rapture-lik', 'event'), 11.56328475341452),\n",
       " (('nozawa', 'stress'), 11.56328475341452),\n",
       " (('hashbut', 'honest'), 11.56328475341452),\n",
       " (('by-the-menu', 'order'), 11.56328475341452),\n",
       " (('bring', 'ketchuppeopl'), 11.56328475341452),\n",
       " (('chanc', 'ps'), 11.56328475341452),\n",
       " (('week', 'crisp'), 11.56328475341452),\n",
       " (('fri', 'instant'), 11.56328475341452),\n",
       " (('trout', 'bake'), 11.56328475341452),\n",
       " (('luckili', 'luke'), 11.56328475341452),\n",
       " (('NUM', 'con'), 11.56328475341452)]"
      ]
     },
     "execution_count": 117,
     "metadata": {},
     "output_type": "execute_result"
    }
   ],
   "source": [
    "least_common = df.most_common()[:-50-1:-1]\n",
    "list(map(lambda word: (word[0], 1 + np.log(N/word[1])), least_common))"
   ]
  },
  {
   "cell_type": "markdown",
   "metadata": {},
   "source": [
    "## Document Similarity"
   ]
  },
  {
   "cell_type": "markdown",
   "metadata": {
    "collapsed": true
   },
   "source": [
    "With the above automatically constructed controlled vocabulary, each review document can be represented as a N-gram vector. Specifically, each dimension in this vector space is defined by the mix of unigrams and bigrams defined in the controlled vocabulary; while the weight for each unigram/bigram in a review document is defined by TF-IDF. Specifically, we will use \"Sub-linear TF scaling\" to compute the normalized TF of each unigram/bigram in a review document. Note the IDF statistics should be only computed based on the train folder."
   ]
  },
  {
   "cell_type": "code",
   "execution_count": 119,
   "metadata": {
    "collapsed": false
   },
   "outputs": [],
   "source": [
    "# We need to be able to map a list of Ngrams as a list of numbers, so that we can represent a document as a N-gram vector\n",
    "index_to_vocabulary = df.keys()\n",
    "vocabulary_to_index = {}\n",
    "for index, word in enumerate(index_to_vocabulary):\n",
    "    vocabulary_to_index[word] = index"
   ]
  },
  {
   "cell_type": "markdown",
   "metadata": {},
   "source": [
    "What is the size of our vocabulary?"
   ]
  },
  {
   "cell_type": "code",
   "execution_count": 120,
   "metadata": {
    "collapsed": false
   },
   "outputs": [
    {
     "data": {
      "text/plain": [
       "287639"
      ]
     },
     "execution_count": 120,
     "metadata": {},
     "output_type": "execute_result"
    }
   ],
   "source": [
    "vocab_size = len(vocabulary_to_index)\n",
    "vocab_size"
   ]
  },
  {
   "cell_type": "markdown",
   "metadata": {},
   "source": [
    "Given the large size of our vocabulary and of our training set, we will use sparse matrix data structures to build Document vectors"
   ]
  },
  {
   "cell_type": "code",
   "execution_count": 121,
   "metadata": {
    "collapsed": false
   },
   "outputs": [],
   "source": [
    "def sparse_vectorize_doc(document, vocabulary_to_index):\n",
    "    '''Build sparse sublinear term frequency vectors from a given document'''\n",
    "    vocab_size = len(vocabulary_to_index)\n",
    "    indices = []; data = []\n",
    "    word_counts = Counter(document)\n",
    "    for word in word_counts:\n",
    "        try:\n",
    "            index = vocabulary_to_index[word]\n",
    "            indices.append(index)\n",
    "            # Sub-linear TF weighing\n",
    "            data.append(1 + np.log(word_counts[word]))\n",
    "        except:\n",
    "            pass\n",
    "    return indices, data"
   ]
  },
  {
   "cell_type": "code",
   "execution_count": 122,
   "metadata": {
    "collapsed": false
   },
   "outputs": [],
   "source": [
    "col = []; data = []; row = []\n",
    "for index, document in enumerate(ngram):\n",
    "    col_indices, dat = sparse_vectorize_doc(document, vocabulary_to_index)\n",
    "    col.append(col_indices)\n",
    "    data.append(dat)\n",
    "    row.append([index] * len(col_indices))\n",
    "col = [item for sublist in col for item in sublist]\n",
    "data = [item for sublist in data for item in sublist]\n",
    "row = [item for sublist in row for item in sublist]"
   ]
  },
  {
   "cell_type": "code",
   "execution_count": 123,
   "metadata": {
    "collapsed": true
   },
   "outputs": [],
   "source": [
    "N = len(ngram)"
   ]
  },
  {
   "cell_type": "markdown",
   "metadata": {},
   "source": [
    "Build the sparse TF matrix"
   ]
  },
  {
   "cell_type": "code",
   "execution_count": 124,
   "metadata": {
    "collapsed": false
   },
   "outputs": [],
   "source": [
    "tf_matrix = sparse.csr_matrix((data, (row, col)), shape=(N, vocab_size))"
   ]
  },
  {
   "cell_type": "markdown",
   "metadata": {},
   "source": [
    "Now build a IDF vector that is properly ordered"
   ]
  },
  {
   "cell_type": "code",
   "execution_count": 125,
   "metadata": {
    "collapsed": false
   },
   "outputs": [],
   "source": [
    "idf = [(vocabulary_to_index[key], 1+np.log(N/df[key])) for key in index_to_vocabulary]\n",
    "idf = sorted(idf)\n",
    "idf = np.array(list(map(lambda x: x[1], idf)))"
   ]
  },
  {
   "cell_type": "code",
   "execution_count": 126,
   "metadata": {
    "collapsed": false
   },
   "outputs": [],
   "source": [
    "idf_mat = sparse.lil_matrix((vocab_size, vocab_size))\n",
    "idf_mat.setdiag(idf)"
   ]
  },
  {
   "cell_type": "code",
   "execution_count": 127,
   "metadata": {
    "collapsed": false
   },
   "outputs": [
    {
     "data": {
      "text/plain": [
       "(38688, 287639)"
      ]
     },
     "execution_count": 127,
     "metadata": {},
     "output_type": "execute_result"
    }
   ],
   "source": [
    "tfidf_matrix = tf_matrix.dot(idf_mat)\n",
    "tfidf_matrix.shape"
   ]
  },
  {
   "cell_type": "markdown",
   "metadata": {},
   "source": [
    "Under the folder of \"/home/hw5x/TextMining/MP1/data/Yelp\", there is a special json file named \"query.json\", which is manually crafted by the instructor. It contains five carefully selected restaurant reviews from and outside the provided corpus. Construct the vector space representations for these five reviews (as what you have done for those review documents in the test folder) and find out the most similar reviews to them from the test folder, where the similarity metric is defined as cosine similarity."
   ]
  },
  {
   "cell_type": "markdown",
   "metadata": {},
   "source": [
    "Load the test data."
   ]
  },
  {
   "cell_type": "code",
   "execution_count": 128,
   "metadata": {
    "collapsed": true
   },
   "outputs": [],
   "source": [
    "test, authors, dates = load_yelp_reviews('../data/yelp/')"
   ]
  },
  {
   "cell_type": "markdown",
   "metadata": {},
   "source": [
    "Construct the unigram and bigrams"
   ]
  },
  {
   "cell_type": "code",
   "execution_count": 137,
   "metadata": {
    "collapsed": true
   },
   "outputs": [],
   "source": [
    "unigram = [[word for word in review if word not in stemmed_stopwords] for review in reviews]"
   ]
  },
  {
   "cell_type": "code",
   "execution_count": 138,
   "metadata": {
    "collapsed": false
   },
   "outputs": [],
   "source": [
    "bigrams = []\n",
    "for review in reviews:\n",
    "    review_bigrams = zip(*[review[i:] for i in range(2)])\n",
    "    bigrams.append(list(filter(lambda bigram: any([word not in stemmed_stopwords for word in bigram]), review_bigrams)))"
   ]
  },
  {
   "cell_type": "code",
   "execution_count": 139,
   "metadata": {
    "collapsed": true
   },
   "outputs": [],
   "source": [
    "ngram = []\n",
    "for uni, bi in zip(unigram, bigrams):\n",
    "    ngram.append(uni+bi)"
   ]
  },
  {
   "cell_type": "code",
   "execution_count": 140,
   "metadata": {
    "collapsed": false
   },
   "outputs": [],
   "source": [
    "ngram = [[word for word in review if word not in restaurant_stop_ngrams] for review in ngram]"
   ]
  },
  {
   "cell_type": "code",
   "execution_count": 141,
   "metadata": {
    "collapsed": false
   },
   "outputs": [],
   "source": [
    "col = []; data = []; row = []\n",
    "for index, document in enumerate(ngram):\n",
    "    col_indices, dat = sparse_vectorize_doc(document, vocabulary_to_index)\n",
    "    col.append(col_indices)\n",
    "    data.append(dat)\n",
    "    row.append([index] * len(col_indices))\n",
    "col = [item for sublist in col for item in sublist]\n",
    "data = [item for sublist in data for item in sublist]\n",
    "row = [item for sublist in row for item in sublist]\n",
    "tf_test = sparse.csr_matrix((data, (row, col)), shape=(len(ngram), vocab_size))\n",
    "tfidf_test = tf_test.dot(idf_mat)"
   ]
  },
  {
   "cell_type": "code",
   "execution_count": 142,
   "metadata": {
    "collapsed": false
   },
   "outputs": [],
   "source": [
    "def cosine_similarity(v1,v2):\n",
    "    \"compute cosine similarity of v1 to v2: (v1 dot v2)/{||v1||*||v2||)\"\n",
    "    v2_T = v2.T\n",
    "    sumxx = v1.dot(v1.T)[0, 0]\n",
    "    sumxy = v1.dot(v2_T)[0, 0]\n",
    "    sumyy = v2.dot(v2_T)[0, 0]\n",
    "    if sumxx == 0 or sumyy == 0:\n",
    "        return -1\n",
    "    else:\n",
    "        return sumxy/math.sqrt(sumxx*sumyy)"
   ]
  },
  {
   "cell_type": "markdown",
   "metadata": {},
   "source": [
    "Create a function for finding the three most similar reviews to a to_be_mached Document vector, given a TFIDF document matrix."
   ]
  },
  {
   "cell_type": "code",
   "execution_count": 143,
   "metadata": {
    "collapsed": false
   },
   "outputs": [],
   "source": [
    "def most_similar_reviews(to_be_matched, tfidf_matrix):\n",
    "    cosines = []\n",
    "    for index in range(len(train)):\n",
    "        similarity = cosine_similarity(to_be_matched, tfidf_matrix[index,:])\n",
    "        cosines.append((similarity, index))\n",
    "    cosines.sort(reverse=True)\n",
    "    cosines = cosines[0:3]\n",
    "    results = [(train_authors[cosine[1]], train_dates[cosine[1]], cosine[0], train[cosine[1]]) for cosine in cosines]\n",
    "    return results"
   ]
  },
  {
   "cell_type": "markdown",
   "metadata": {},
   "source": [
    "We run that function on the first document!"
   ]
  },
  {
   "cell_type": "code",
   "execution_count": 145,
   "metadata": {
    "collapsed": false
   },
   "outputs": [
    {
     "name": "stdout",
     "output_type": "stream",
     "text": [
      "[('Mary B.', '2013-04-16', 0.23924044451892357, 'Get the bacon wrapped dates! This place is SO good.'), ('Anne K.', '2010-07-25', 0.21187199881122043, 'The food was really good. I like the bacon wrapped dates and the potatoes with paprika'), ('Anamaria H.', '2014-06-27', 0.20180372970372265, \"Try the bacon wrapped dates! They're absolutely delicious! You get 8 with an order but you'll wish there were more.\")]\n"
     ]
    }
   ],
   "source": [
    "print(most_similar_reviews(tfidf_test[0,:], tfidf_matrix))"
   ]
  },
  {
   "cell_type": "markdown",
   "metadata": {},
   "source": [
    "The first document is likely a review that mentions bacon-wrapped dates."
   ]
  }
 ],
 "metadata": {
  "kernelspec": {
   "display_name": "Python 3",
   "language": "python",
   "name": "python3"
  },
  "language_info": {
   "codemirror_mode": {
    "name": "ipython",
    "version": 3
   },
   "file_extension": ".py",
   "mimetype": "text/x-python",
   "name": "python",
   "nbconvert_exporter": "python",
   "pygments_lexer": "ipython3",
   "version": "3.5.1"
  }
 },
 "nbformat": 4,
 "nbformat_minor": 0
}
