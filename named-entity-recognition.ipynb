{
 "cells": [
  {
   "cell_type": "code",
   "execution_count": 2,
   "metadata": {
    "collapsed": true
   },
   "outputs": [],
   "source": [
    "import nltk"
   ]
  },
  {
   "cell_type": "code",
   "execution_count": 1,
   "metadata": {
    "collapsed": true
   },
   "outputs": [],
   "source": [
    "file = ' '.join([line.rstrip('\\n').strip() for line in open('../data/big.txt', 'r').readlines()])"
   ]
  },
  {
   "cell_type": "code",
   "execution_count": 3,
   "metadata": {
    "collapsed": true
   },
   "outputs": [],
   "source": [
    "sentences = nltk.sent_tokenize(file)"
   ]
  },
  {
   "cell_type": "code",
   "execution_count": 4,
   "metadata": {
    "collapsed": true
   },
   "outputs": [],
   "source": [
    "tokenized_sentences = [nltk.word_tokenize(sent) for sent in sentences]"
   ]
  },
  {
   "cell_type": "code",
   "execution_count": null,
   "metadata": {
    "collapsed": true
   },
   "outputs": [],
   "source": [
    "pos_tagged_sentences = [nltk.pos_tag(sent) for sent in sentences]"
   ]
  },
  {
   "cell_type": "code",
   "execution_count": 6,
   "metadata": {
    "collapsed": true
   },
   "outputs": [],
   "source": [
    "corpus = nltk.corpus.treebank.tagged_sents()"
   ]
  },
  {
   "cell_type": "code",
   "execution_count": 10,
   "metadata": {
    "collapsed": false
   },
   "outputs": [],
   "source": [
    "data = [nltk.ne_chunk(sent) for sent in corpus]"
   ]
  },
  {
   "cell_type": "code",
   "execution_count": 15,
   "metadata": {
    "collapsed": false
   },
   "outputs": [
    {
     "name": "stdout",
     "output_type": "stream",
     "text": [
      "(S\n",
      "  The/DT\n",
      "  plant/NN\n",
      "  ,/,\n",
      "  which/WDT\n",
      "  *T*-1/-NONE-\n",
      "  is/VBZ\n",
      "  owned/VBN\n",
      "  *-4/-NONE-\n",
      "  by/IN\n",
      "  (ORGANIZATION Hollingsworth/NNP)\n",
      "  &/CC\n",
      "  (PERSON Vose/NNP Co./NNP)\n",
      "  ,/,\n",
      "  was/VBD\n",
      "  under/IN\n",
      "  contract/NN\n",
      "  *ICH*-2/-NONE-\n",
      "  with/IN\n",
      "  (PERSON Lorillard/NN)\n",
      "  */-NONE-\n",
      "  to/TO\n",
      "  make/VB\n",
      "  the/DT\n",
      "  cigarette/NN\n",
      "  filters/NNS\n",
      "  ./.)\n"
     ]
    }
   ],
   "source": [
    "print(data[20])"
   ]
  }
 ],
 "metadata": {
  "kernelspec": {
   "display_name": "Python 3",
   "language": "python",
   "name": "python3"
  },
  "language_info": {
   "codemirror_mode": {
    "name": "ipython",
    "version": 3
   },
   "file_extension": ".py",
   "mimetype": "text/x-python",
   "name": "python",
   "nbconvert_exporter": "python",
   "pygments_lexer": "ipython3",
   "version": "3.5.1"
  }
 },
 "nbformat": 4,
 "nbformat_minor": 0
}
